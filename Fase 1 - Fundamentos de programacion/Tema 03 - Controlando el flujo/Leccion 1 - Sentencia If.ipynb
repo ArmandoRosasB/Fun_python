{
 "cells": [
  {
   "cell_type": "code",
   "execution_count": 3,
   "metadata": {},
   "outputs": [
    {
     "name": "stdout",
     "output_type": "stream",
     "text": [
      "Se cumple la condición\n",
      "Tambien se muestra este print\n"
     ]
    }
   ],
   "source": [
    "#Sentencia if\n",
    "\n",
    "'''\n",
    "Permite dividir el flujo de un \n",
    "programa en diferentes caminos\n",
    "'''\n",
    "if True:\n",
    "    print(\"Se cumple la condición\")\n",
    "    print(\"Tambien se muestra este print\")"
   ]
  },
  {
   "cell_type": "code",
   "execution_count": 5,
   "metadata": {},
   "outputs": [
    {
     "name": "stdout",
     "output_type": "stream",
     "text": [
      "Se cumple la condición\n",
      "Tambien se muestra este print\n"
     ]
    }
   ],
   "source": [
    "if not False:\n",
    "    print(\"Se cumple la condición\")\n",
    "    print(\"Tambien se muestra este print\")"
   ]
  },
  {
   "cell_type": "code",
   "execution_count": 7,
   "metadata": {},
   "outputs": [
    {
     "name": "stdout",
     "output_type": "stream",
     "text": [
      "a vale 5\n"
     ]
    }
   ],
   "source": [
    "a = 5\n",
    "if a == 2:\n",
    "    print(\"a vale 2\")\n",
    "if a == 5:\n",
    "    print(\"a vale 5\")"
   ]
  },
  {
   "cell_type": "markdown",
   "metadata": {},
   "source": []
  },
  {
   "cell_type": "code",
   "execution_count": 9,
   "metadata": {},
   "outputs": [
    {
     "name": "stdout",
     "output_type": "stream",
     "text": [
      "a vale 5\n",
      "b vale 10\n"
     ]
    }
   ],
   "source": [
    "a = 5\n",
    "b = 10\n",
    "\n",
    "if a == 5:\n",
    "    print(\"a vale\", a)\n",
    "    if b == 10:\n",
    "        print(\"b vale\", b)"
   ]
  },
  {
   "cell_type": "code",
   "execution_count": 11,
   "metadata": {},
   "outputs": [
    {
     "name": "stdout",
     "output_type": "stream",
     "text": [
      "a vale 5 y b vale 10\n"
     ]
    }
   ],
   "source": [
    "if (a == 5) and (b == 10):\n",
    "    print(\"a vale 5 y b vale 10\")"
   ]
  },
  {
   "cell_type": "code",
   "execution_count": 14,
   "metadata": {},
   "outputs": [
    {
     "name": "stdout",
     "output_type": "stream",
     "text": [
      "11 es un numero impar\n"
     ]
    }
   ],
   "source": [
    "# Else\n",
    "'''\n",
    "Se encadena a un if para indicar \n",
    "el caso contrario cuando no se \n",
    "cumple la condición\n",
    "'''\n",
    "\n",
    "n = 11\n",
    "if (n % 2) == 0:\n",
    "    print(n, \"es un numero par\")\n",
    "else:\n",
    "    print(n, \"es un numero impar\")"
   ]
  },
  {
   "cell_type": "code",
   "execution_count": 19,
   "metadata": {},
   "outputs": [
    {
     "name": "stdout",
     "output_type": "stream",
     "text": [
      "Este comando no se reconoce\n"
     ]
    }
   ],
   "source": [
    "# Elif (Sino si)\n",
    "'''\n",
    "Se encadena a un If para comprobar otra posible\n",
    "condición, simepre que la anterior no se cumpla\n",
    "'''\n",
    "comando = \"OTRA COSA\"\n",
    "if comando == \"ENTRAR\":\n",
    "    print(\"Bienvenido al sistema\")\n",
    "elif comando == \"SALUDAR\":\n",
    "    print(\"Hola, espero que te lo estes pasando bien aprendiendo Python\")\n",
    "elif comando == \"SALIR\":\n",
    "    print(\"Saliendo del sistema\")\n",
    "else:\n",
    "    print(\"Este comando no se reconoce\")"
   ]
  },
  {
   "cell_type": "code",
   "execution_count": 22,
   "metadata": {},
   "outputs": [
    {
     "name": "stdout",
     "output_type": "stream",
     "text": [
      "Introduce uan nota: 8\n",
      "Notable\n"
     ]
    }
   ],
   "source": [
    "nota = float(input(\"Introduce uan nota: \"))\n",
    "if nota >= 9:\n",
    "    print(\"Sobresaliente\")\n",
    "elif nota >= 7:\n",
    "    print(\"Notable\")\n",
    "elif nota >= 6:\n",
    "    print(\"bien\")\n",
    "elif nota >=5:\n",
    "    print(\"Suficiente\")\n",
    "else:\n",
    "    print(\"Insuficiente\")"
   ]
  },
  {
   "cell_type": "code",
   "execution_count": null,
   "metadata": {},
   "outputs": [],
   "source": []
  },
  {
   "cell_type": "code",
   "execution_count": null,
   "metadata": {},
   "outputs": [],
   "source": []
  }
 ],
 "metadata": {
  "kernelspec": {
   "display_name": "Python 3 (ipykernel)",
   "language": "python",
   "name": "python3"
  },
  "language_info": {
   "codemirror_mode": {
    "name": "ipython",
    "version": 3
   },
   "file_extension": ".py",
   "mimetype": "text/x-python",
   "name": "python",
   "nbconvert_exporter": "python",
   "pygments_lexer": "ipython3",
   "version": "3.10.5"
  }
 },
 "nbformat": 4,
 "nbformat_minor": 1
}
