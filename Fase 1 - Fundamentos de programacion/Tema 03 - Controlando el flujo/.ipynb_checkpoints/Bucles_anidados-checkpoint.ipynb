{
 "cells": [
  {
   "cell_type": "code",
   "execution_count": 1,
   "id": "1e7d3fd2",
   "metadata": {},
   "outputs": [],
   "source": [
    "lista = [\"Hola\", 10, \"Adiós\", [10, 100, 150]]"
   ]
  },
  {
   "cell_type": "code",
   "execution_count": 2,
   "id": "864cd2a7",
   "metadata": {},
   "outputs": [
    {
     "data": {
      "text/plain": [
       "[10, 100, 150]"
      ]
     },
     "execution_count": 2,
     "metadata": {},
     "output_type": "execute_result"
    }
   ],
   "source": [
    "lista[-1]"
   ]
  },
  {
   "cell_type": "code",
   "execution_count": 3,
   "id": "c41cce43",
   "metadata": {},
   "outputs": [
    {
     "data": {
      "text/plain": [
       "10"
      ]
     },
     "execution_count": 3,
     "metadata": {},
     "output_type": "execute_result"
    }
   ],
   "source": [
    "lista[-1][0]"
   ]
  },
  {
   "cell_type": "code",
   "execution_count": 5,
   "id": "3a952bdd",
   "metadata": {},
   "outputs": [
    {
     "data": {
      "text/plain": [
       "150"
      ]
     },
     "execution_count": 5,
     "metadata": {},
     "output_type": "execute_result"
    }
   ],
   "source": [
    "lista[-1][-1]"
   ]
  },
  {
   "cell_type": "code",
   "execution_count": 6,
   "id": "163f3163",
   "metadata": {},
   "outputs": [
    {
     "name": "stdout",
     "output_type": "stream",
     "text": [
      "10\n",
      "100\n",
      "150\n"
     ]
    }
   ],
   "source": [
    "for numero in lista[-1]:\n",
    "    print(numero)\n",
    "    "
   ]
  },
  {
   "cell_type": "code",
   "execution_count": 7,
   "id": "f2b9ba76",
   "metadata": {},
   "outputs": [],
   "source": [
    "lista = [\n",
    "    \"Esto es un texto\",             # cadena\n",
    "    (1, 5, 10, 15, 20, 25),         # tupla: lista inmutable\n",
    "    [\"Azul\", \"Verde\", \"Amarillo\"]   # lista\n",
    "]"
   ]
  },
  {
   "cell_type": "code",
   "execution_count": 8,
   "id": "1ad8fdca",
   "metadata": {},
   "outputs": [
    {
     "name": "stdout",
     "output_type": "stream",
     "text": [
      "Esto es un texto\n",
      "(1, 5, 10, 15, 20, 25)\n",
      "['Azul', 'Verde', 'Amarillo']\n"
     ]
    }
   ],
   "source": [
    "for coleccion in lista:\n",
    "    print(coleccion)"
   ]
  },
  {
   "cell_type": "code",
   "execution_count": 10,
   "id": "c590768d",
   "metadata": {},
   "outputs": [
    {
     "name": "stdout",
     "output_type": "stream",
     "text": [
      "Esto es un texto -> E\n",
      "Esto es un texto -> s\n",
      "Esto es un texto -> t\n",
      "Esto es un texto -> o\n",
      "Esto es un texto ->  \n",
      "Esto es un texto -> e\n",
      "Esto es un texto -> s\n",
      "Esto es un texto ->  \n",
      "Esto es un texto -> u\n",
      "Esto es un texto -> n\n",
      "Esto es un texto ->  \n",
      "Esto es un texto -> t\n",
      "Esto es un texto -> e\n",
      "Esto es un texto -> x\n",
      "Esto es un texto -> t\n",
      "Esto es un texto -> o\n",
      "(1, 5, 10, 15, 20, 25) -> 1\n",
      "(1, 5, 10, 15, 20, 25) -> 5\n",
      "(1, 5, 10, 15, 20, 25) -> 10\n",
      "(1, 5, 10, 15, 20, 25) -> 15\n",
      "(1, 5, 10, 15, 20, 25) -> 20\n",
      "(1, 5, 10, 15, 20, 25) -> 25\n",
      "['Azul', 'Verde', 'Amarillo'] -> Azul\n",
      "['Azul', 'Verde', 'Amarillo'] -> Verde\n",
      "['Azul', 'Verde', 'Amarillo'] -> Amarillo\n"
     ]
    }
   ],
   "source": [
    "for coleccion in lista:\n",
    "    for elemento in coleccion:\n",
    "        print(coleccion, \"->\",elemento)"
   ]
  },
  {
   "cell_type": "code",
   "execution_count": 12,
   "id": "1010b6ef",
   "metadata": {},
   "outputs": [
    {
     "name": "stdout",
     "output_type": "stream",
     "text": [
      "Esto es un texto -> E\n",
      "Esto es un texto -> s\n",
      "Esto es un texto -> t\n",
      "Esto es un texto -> o\n",
      "Esto es un texto ->  \n",
      "Esto es un texto -> e\n",
      "Esto es un texto -> s\n",
      "Esto es un texto ->  \n",
      "Esto es un texto -> u\n",
      "Esto es un texto -> n\n",
      "Esto es un texto ->  \n",
      "Esto es un texto -> t\n",
      "Esto es un texto -> e\n",
      "Esto es un texto -> x\n",
      "Esto es un texto -> t\n",
      "Esto es un texto -> o\n",
      "(1, 5, 10, 15, 20, 25) -> 1\n",
      "(1, 5, 10, 15, 20, 25) -> 5\n",
      "(1, 5, 10, 15, 20, 25) -> 10\n",
      "(1, 5, 10, 15, 20, 25) -> 15\n",
      "(1, 5, 10, 15, 20, 25) -> 20\n",
      "(1, 5, 10, 15, 20, 25) -> 25\n",
      "['Azul', 'Verde', 'Amarillo'] -> Azul\n",
      "['Azul', 'Verde', 'Amarillo'] -> Verde\n",
      "['Azul', 'Verde', 'Amarillo'] -> Amarillo\n"
     ]
    }
   ],
   "source": [
    "for indice_coleccion,coleccion in enumerate(lista):\n",
    "    for indice_elemento, elemento in enumerate(coleccion):\n",
    "        print(coleccion, \"->\",elemento)"
   ]
  },
  {
   "cell_type": "code",
   "execution_count": 13,
   "id": "0dab3c9f",
   "metadata": {},
   "outputs": [
    {
     "name": "stdout",
     "output_type": "stream",
     "text": [
      "E\n",
      "s\n",
      "t\n",
      "o\n",
      " \n",
      "e\n",
      "s\n",
      " \n",
      "u\n",
      "n\n",
      " \n",
      "t\n",
      "e\n",
      "x\n",
      "t\n",
      "o\n",
      "1\n",
      "5\n",
      "10\n",
      "15\n",
      "20\n",
      "25\n",
      "Azul\n",
      "Verde\n",
      "Amarillo\n"
     ]
    }
   ],
   "source": [
    "for indice_coleccion,coleccion in enumerate(lista):\n",
    "    for indice_elemento, elemento in enumerate(coleccion):\n",
    "        print(lista[indice_coleccion][indice_elemento])"
   ]
  },
  {
   "cell_type": "code",
   "execution_count": 14,
   "id": "a23db969",
   "metadata": {},
   "outputs": [
    {
     "name": "stdout",
     "output_type": "stream",
     "text": [
      "[0, 0, 0]\n",
      "[1, 1, 1]\n",
      "[2, 2, 2]\n"
     ]
    }
   ],
   "source": [
    "tabla = [\n",
    "    [0,0,0],\n",
    "    [1,1,1],\n",
    "    [2,2,2]\n",
    "]\n",
    "\n",
    "for fila in tabla:\n",
    "    print(fila)"
   ]
  },
  {
   "cell_type": "code",
   "execution_count": 18,
   "id": "4eb2cac8",
   "metadata": {},
   "outputs": [
    {
     "name": "stdout",
     "output_type": "stream",
     "text": [
      "0 0 0 \n",
      "1 1 1 \n",
      "2 2 2 \n"
     ]
    }
   ],
   "source": [
    "for fila in tabla:\n",
    "    for columna in fila:\n",
    "        print(columna, end = \" \")\n",
    "    print()"
   ]
  },
  {
   "cell_type": "code",
   "execution_count": 21,
   "id": "e85a5dd4",
   "metadata": {},
   "outputs": [
    {
     "name": "stdout",
     "output_type": "stream",
     "text": [
      "0 0 0 \n",
      "1 1 1 \n",
      "2 2 2 \n"
     ]
    }
   ],
   "source": [
    "for i, fila in enumerate(tabla):\n",
    "    for j, columna in enumerate(fila):\n",
    "        print(tabla[i][j], end = \" \")\n",
    "    print()"
   ]
  },
  {
   "cell_type": "code",
   "execution_count": 23,
   "id": "0d6cb4da",
   "metadata": {},
   "outputs": [],
   "source": [
    "tabla = [\n",
    "    [0,0,0],\n",
    "    [1,1,1],\n",
    "    [2,2,2]\n",
    "]\n",
    "\n",
    "cubo =[\n",
    "    tabla, tabla, tabla\n",
    "]"
   ]
  },
  {
   "cell_type": "code",
   "execution_count": 26,
   "id": "21ca074f",
   "metadata": {},
   "outputs": [
    {
     "name": "stdout",
     "output_type": "stream",
     "text": [
      "1\n"
     ]
    }
   ],
   "source": [
    "print(cubo[0][1][2]) #[profundidad][fila][columna]"
   ]
  },
  {
   "cell_type": "code",
   "execution_count": 32,
   "id": "41ffd70c",
   "metadata": {},
   "outputs": [
    {
     "name": "stdout",
     "output_type": "stream",
     "text": [
      "0 0 0 \n",
      "1 1 1 \n",
      "2 2 2 \n",
      "\n",
      "0 0 0 \n",
      "1 1 1 \n",
      "2 2 2 \n",
      "\n",
      "0 0 0 \n",
      "1 1 1 \n",
      "2 2 2 \n",
      "\n"
     ]
    }
   ],
   "source": [
    "for k, tabla in enumerate(cubo):\n",
    "    for j, fila in  enumerate(tabla):\n",
    "        for i, columna in enumerate(fila):\n",
    "            print(cubo[k][j][i], end = \" \")\n",
    "        print()\n",
    "    print()\n"
   ]
  },
  {
   "cell_type": "code",
   "execution_count": null,
   "id": "e077b5b0",
   "metadata": {},
   "outputs": [],
   "source": []
  }
 ],
 "metadata": {
  "kernelspec": {
   "display_name": "Python 3 (ipykernel)",
   "language": "python",
   "name": "python3"
  },
  "language_info": {
   "codemirror_mode": {
    "name": "ipython",
    "version": 3
   },
   "file_extension": ".py",
   "mimetype": "text/x-python",
   "name": "python",
   "nbconvert_exporter": "python",
   "pygments_lexer": "ipython3",
   "version": "3.10.5"
  }
 },
 "nbformat": 4,
 "nbformat_minor": 5
}
