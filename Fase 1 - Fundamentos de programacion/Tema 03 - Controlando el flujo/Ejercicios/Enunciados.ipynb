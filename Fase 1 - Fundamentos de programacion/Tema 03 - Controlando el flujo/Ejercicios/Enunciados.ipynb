{
 "cells": [
  {
   "cell_type": "markdown",
   "metadata": {},
   "source": [
    "# Tema 03: Control de flujo (Enunciados)\n",
    "*Nota: Estos ejercicios son optativos para hacer al final de la unidad y están pensados para apoyar tu aprendizaje*."
   ]
  },
  {
   "cell_type": "markdown",
   "metadata": {},
   "source": [
    "**1) Realiza un programa que lea dos números por teclado y permita elegir entre 3 opciones en un menú:** \n",
    "* Mostrar una suma de los dos números\n",
    "* Mostrar una resta de los dos números (el primero menos el segundo)\n",
    "* Mostrar una multiplicación de los dos números\n",
    "* En caso de no introducir una opción válida, el programa informará de que no es correcta."
   ]
  },
  {
   "cell_type": "code",
   "execution_count": 5,
   "metadata": {},
   "outputs": [
    {
     "name": "stdout",
     "output_type": "stream",
     "text": [
      "Elige un numero: 7\n",
      "Elige otro numero: 5\n",
      "Bienvendio a este menú interactivo\n",
      "\n",
      "    1) Suma de dos numeros\n",
      "    2) Resta de dos numeros (el primero menos el segundo)\n",
      "    3) Multiplicación entre dos numeros\n",
      "    \n",
      "Elige uan opcion: 8\n",
      "Opcion no valida\n"
     ]
    }
   ],
   "source": [
    "# Completa el ejercicio aquí\n",
    "n1 = float(input(\"Elige un numero: \"))\n",
    "n2 = float(input(\"Elige otro numero: \"))\n",
    "\n",
    "print(\"Bienvendio a este menú interactivo\")\n",
    "print('''\n",
    "    1) Suma de dos numeros\n",
    "    2) Resta de dos numeros (el primero menos el segundo)\n",
    "    3) Multiplicación entre dos numeros\n",
    "    ''')\n",
    "opcion = int(input(\"Elige uan opcion: \"))\n",
    "\n",
    "if(opcion == 1):\n",
    "    print(\"La suma de\", n1, \"+\", n2, \"=\", n1 + n2)\n",
    "elif(opcion == 2):\n",
    "    print(\"La resta de\", n1, \"-\", n2, \"=\", n1 - n2)  \n",
    "elif(opcion == 3):\n",
    "    print(\"La multiplicacion de\", n1, \"x\", n2, \"=\", n1 * n2)\n",
    "else:\n",
    "    print(\"Opcion no valida\")\n",
    "    "
   ]
  },
  {
   "cell_type": "markdown",
   "metadata": {},
   "source": [
    "**2) Realiza un programa que lea un número impar por teclado. Si el usuario no introduce un número impar, debe repetise el proceso hasta que lo introduzca correctamente.**"
   ]
  },
  {
   "cell_type": "code",
   "execution_count": 7,
   "metadata": {},
   "outputs": [
    {
     "name": "stdout",
     "output_type": "stream",
     "text": [
      "Ingrese un numero impar: 4\n",
      "Ingrese un numero impar: 4\n",
      "Ingrese un numero impar: 4\n",
      "Ingrese un numero impar: 4\n",
      "Ingrese un numero impar: 4\n",
      "Ingrese un numero impar: 4\n",
      "Ingrese un numero impar: 5\n"
     ]
    }
   ],
   "source": [
    "# Completa el ejercicio aquí\n",
    "numero = int(input(\"Ingrese un numero impar: \"))\n",
    "\n",
    "while (numero % 2 == 0):\n",
    "    numero = int(input(\"Ingrese un numero impar: \"))"
   ]
  },
  {
   "cell_type": "markdown",
   "metadata": {},
   "source": [
    "**3) Realiza un programa que sume todos los números enteros pares desde el 0 hasta el 100:**\n",
    "\n",
    "*Sugerencia: Puedes utilizar la funciones sum() y range() para hacerlo más fácil. El tercer parámetro en la función range(inicio, fin, salto) indica un salto de números, pruébalo.*"
   ]
  },
  {
   "cell_type": "code",
   "execution_count": 13,
   "metadata": {},
   "outputs": [
    {
     "name": "stdout",
     "output_type": "stream",
     "text": [
      "2550\n"
     ]
    }
   ],
   "source": [
    "# Completa el ejercicio aquí\n",
    "numeros = 0;\n",
    "\n",
    "for i, par in enumerate(range(0, 101, 2)):\n",
    "    numeros += par\n",
    "\n",
    "\n",
    "print(numeros)"
   ]
  },
  {
   "cell_type": "markdown",
   "metadata": {},
   "source": [
    "**4) Realiza un programa que pida al usuario cuantos números quiere introducir. Luego lee todos los números y realiza una media aritmética:**\n"
   ]
  },
  {
   "cell_type": "code",
   "execution_count": 22,
   "metadata": {},
   "outputs": [
    {
     "name": "stdout",
     "output_type": "stream",
     "text": [
      "Introduce un numero: 10\n",
      "¿Quieres agregar otro numero? (Si o No)Si\n",
      "Introduce un numero: 9\n",
      "¿Quieres agregar otro numero? (Si o No)No\n",
      "El promedio es 9.5\n"
     ]
    }
   ],
   "source": [
    "# Completa el ejercicio aquí\n",
    "bandera = True\n",
    "lista = []\n",
    "i = 0\n",
    "\n",
    "while(bandera):\n",
    "    lista.append(float(input(\"Introduce un numero: \")))\n",
    "    respuesta = input(\"¿Quieres agregar otro numero? (Si o No)\")\n",
    "    if (respuesta == \"Si\"):\n",
    "        pass\n",
    "    elif (respuesta == \"No\"):\n",
    "        bandera = False\n",
    "    i += 1\n",
    "promedio = (sum(lista)) / len(lista)\n",
    "print(\"El promedio es\", promedio)"
   ]
  },
  {
   "cell_type": "markdown",
   "metadata": {},
   "source": [
    "**5) Realiza un programa que pida al usuario un número entero del 0 al 9, y que mientras el número no sea correcto se repita el proceso. Luego debe comprobar si el número se encuentra en la lista de números y notificarlo:**\n",
    "\n",
    "*Consejo: La sintaxis \"valor in lista\" permite comprobar fácilmente si un valor se encuentra en una lista (devuelve True o False)*"
   ]
  },
  {
   "cell_type": "code",
   "execution_count": 38,
   "metadata": {},
   "outputs": [
    {
     "name": "stdout",
     "output_type": "stream",
     "text": [
      "Ingrese un numero de 0 al 9: -9\n",
      "Ingrese un numero de 0 al 9: 6\n",
      "El numero se encuentra en la lista\n"
     ]
    }
   ],
   "source": [
    "# Completa el ejercicio aquí\n",
    "numeros = [1, 3, 6, 9]\n",
    "\n",
    "\n",
    "while True:\n",
    "    numero = int(input(\"Ingrese un numero de 0 al 9: \"))\n",
    "    if (numero < 9) and (numero > 0):\n",
    "        break\n",
    "    else:\n",
    "        pass\n",
    "\n",
    "if numero in numeros: # Si numero se encuentra en numeros\n",
    "        print(\"El numero se encuentra en la lista\")"
   ]
  },
  {
   "cell_type": "markdown",
   "metadata": {},
   "source": [
    "**6) Utilizando la función range() y la conversión a listas genera las siguientes listas dinámicamente:**\n",
    "* Todos los números del 0 al 10 [0, 1, 2, ..., 10]\n",
    "* Todos los números del -10 al 0 [-10, -9, -8, ..., 0]\n",
    "* Todos los números pares del 0 al 20 [0, 2, 4, ..., 20]\n",
    "* Todos los números impares entre -20 y 0 [-19, -17, -15, ..., -1]\n",
    "* Todos los números múltiples de 5 del 0 al 50 [0, 5, 10, ..., 50]\n",
    "\n",
    "*Pista: Utiliza el tercer parámetro de la función range(inicio, fin, salto).*"
   ]
  },
  {
   "cell_type": "code",
   "execution_count": 40,
   "metadata": {},
   "outputs": [
    {
     "name": "stdout",
     "output_type": "stream",
     "text": [
      "[0, 1, 2, 3, 4, 5, 6, 7, 8, 9, 10]\n",
      "[-10, -9, -8, -7, -6, -5, -4, -3, -2, -1, 0]\n",
      "[0, 2, 4, 6, 8, 10, 12, 14, 16, 18, 20]\n",
      "[-19, -17, -15, -13, -11, -9, -7, -5, -3, -1]\n",
      "[0, 5, 10, 15, 20, 25, 30, 35, 40, 45, 50]\n"
     ]
    }
   ],
   "source": [
    "# Completa el ejercicio\n",
    "lista1 = list(range(0, 11))\n",
    "lista2 = list(range(-10, 1))\n",
    "lista3 = list(range(0, 21, 2))\n",
    "lista4 = list(range(-19, 0, 2))\n",
    "lista5 = list(range(0, 51, 5))\n",
    "\n",
    "print(lista1)\n",
    "print(lista2)\n",
    "print(lista3)\n",
    "print(lista4)\n",
    "print(lista5)"
   ]
  },
  {
   "cell_type": "markdown",
   "metadata": {},
   "source": [
    "**7) Dadas dos listas, debes generar una tercera con todos los elementos que se repitan en ellas, pero no debe repetise ningún elemento en la nueva lista:**"
   ]
  },
  {
   "cell_type": "code",
   "execution_count": 43,
   "metadata": {},
   "outputs": [
    {
     "name": "stdout",
     "output_type": "stream",
     "text": [
      "['h', 'o', 'l', 'a', ' ', 'u', 'n']\n"
     ]
    }
   ],
   "source": [
    "# Completa el ejercicio aquí\n",
    "lista_1 = ['h','o','l','a',' ','m','u','n','d','o']\n",
    "lista_2 = ['h','o','l','a',' ','l','u','n','a']\n",
    "lista_3 = []\n",
    "\n",
    "for letra in lista_1:\n",
    "    if letra in lista_2 and letra not in lista_3:\n",
    "        lista_3.append(letra)\n",
    "\n",
    "print(lista_3)"
   ]
  },
  {
   "cell_type": "code",
   "execution_count": null,
   "metadata": {},
   "outputs": [],
   "source": []
  }
 ],
 "metadata": {
  "anaconda-cloud": {},
  "kernelspec": {
   "display_name": "Python 3 (ipykernel)",
   "language": "python",
   "name": "python3"
  },
  "language_info": {
   "codemirror_mode": {
    "name": "ipython",
    "version": 3
   },
   "file_extension": ".py",
   "mimetype": "text/x-python",
   "name": "python",
   "nbconvert_exporter": "python",
   "pygments_lexer": "ipython3",
   "version": "3.10.5"
  }
 },
 "nbformat": 4,
 "nbformat_minor": 1
}
