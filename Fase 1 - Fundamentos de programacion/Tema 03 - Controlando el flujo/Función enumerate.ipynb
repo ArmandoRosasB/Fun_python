{
 "cells": [
  {
   "cell_type": "code",
   "execution_count": 1,
   "id": "9273ffcc",
   "metadata": {},
   "outputs": [
    {
     "name": "stdout",
     "output_type": "stream",
     "text": [
      "Hola\n",
      "4\n",
      "Adiós\n",
      "[1, 2, 3]\n"
     ]
    }
   ],
   "source": [
    "elementos = [\"Hola\", 4, \"Adiós\", [1, 2, 3]]\n",
    "\n",
    "for e in elementos:\n",
    "    print(e)"
   ]
  },
  {
   "cell_type": "code",
   "execution_count": 2,
   "id": "2d3155e9",
   "metadata": {},
   "outputs": [
    {
     "name": "stdout",
     "output_type": "stream",
     "text": [
      "0 Hola\n",
      "1 4\n",
      "2 Adiós\n",
      "3 [1, 2, 3]\n"
     ]
    }
   ],
   "source": [
    "for i, e in enumerate(elementos):\n",
    "    '''\n",
    "        i -> índice\n",
    "        e -> elemento\n",
    "    '''\n",
    "    print(i, e)"
   ]
  },
  {
   "cell_type": "code",
   "execution_count": 3,
   "id": "3ae48cdf",
   "metadata": {},
   "outputs": [
    {
     "name": "stdout",
     "output_type": "stream",
     "text": [
      "10 50 100\n"
     ]
    }
   ],
   "source": [
    "#Asignaión multiple\n",
    "a, b, c = 10, 50, 100\n",
    "print(a, b, c)"
   ]
  },
  {
   "cell_type": "code",
   "execution_count": 5,
   "id": "0eba9383",
   "metadata": {},
   "outputs": [
    {
     "name": "stdout",
     "output_type": "stream",
     "text": [
      "10 50 100\n"
     ]
    }
   ],
   "source": [
    "(a, b, c) = (10, 50, 100)\n",
    "print(a, b, c)"
   ]
  },
  {
   "cell_type": "code",
   "execution_count": 6,
   "id": "db459b24",
   "metadata": {},
   "outputs": [
    {
     "name": "stdout",
     "output_type": "stream",
     "text": [
      "10 50 100\n"
     ]
    }
   ],
   "source": [
    "[a, b, c] = [10, 50, 100]\n",
    "print(a, b, c)"
   ]
  },
  {
   "cell_type": "code",
   "execution_count": 7,
   "id": "87b67097",
   "metadata": {},
   "outputs": [
    {
     "name": "stdout",
     "output_type": "stream",
     "text": [
      "10 50 100\n"
     ]
    }
   ],
   "source": [
    "def funcion():\n",
    "    return 10, 50, 100\n",
    "\n",
    "a, b, c = funcion()\n",
    "print(a, b, c)"
   ]
  },
  {
   "cell_type": "code",
   "execution_count": 9,
   "id": "369e2f82",
   "metadata": {},
   "outputs": [
    {
     "data": {
      "text/plain": [
       "[(0, 'Hola'), (1, 4), (2, 'Adiós'), (3, [1, 2, 3])]"
      ]
     },
     "execution_count": 9,
     "metadata": {},
     "output_type": "execute_result"
    }
   ],
   "source": [
    "list(enumerate(elementos))"
   ]
  },
  {
   "cell_type": "code",
   "execution_count": 10,
   "id": "26547352",
   "metadata": {},
   "outputs": [
    {
     "name": "stdout",
     "output_type": "stream",
     "text": [
      "(0, 'Hola')\n",
      "(1, 4)\n",
      "(2, 'Adiós')\n",
      "(3, [1, 2, 3])\n"
     ]
    }
   ],
   "source": [
    "for tupla in enumerate(elementos):\n",
    "    print(tupla)"
   ]
  },
  {
   "cell_type": "code",
   "execution_count": 13,
   "id": "7582aa36",
   "metadata": {},
   "outputs": [
    {
     "name": "stdout",
     "output_type": "stream",
     "text": [
      "Hola\n",
      "4\n",
      "Adiós\n",
      "[1, 2, 3]\n"
     ]
    }
   ],
   "source": [
    "for indice,valor in enumerate(elementos):\n",
    "    print(valor)"
   ]
  },
  {
   "cell_type": "code",
   "execution_count": null,
   "id": "e8151a39",
   "metadata": {},
   "outputs": [],
   "source": []
  }
 ],
 "metadata": {
  "kernelspec": {
   "display_name": "Python 3 (ipykernel)",
   "language": "python",
   "name": "python3"
  },
  "language_info": {
   "codemirror_mode": {
    "name": "ipython",
    "version": 3
   },
   "file_extension": ".py",
   "mimetype": "text/x-python",
   "name": "python",
   "nbconvert_exporter": "python",
   "pygments_lexer": "ipython3",
   "version": "3.10.5"
  }
 },
 "nbformat": 4,
 "nbformat_minor": 5
}
