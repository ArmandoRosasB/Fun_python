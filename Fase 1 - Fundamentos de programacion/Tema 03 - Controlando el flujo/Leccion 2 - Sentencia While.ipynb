{
 "cells": [
  {
   "cell_type": "code",
   "execution_count": 3,
   "metadata": {},
   "outputs": [
    {
     "name": "stdout",
     "output_type": "stream",
     "text": [
      "c vale 0\n",
      "c vale 1\n",
      "c vale 2\n",
      "c vale 3\n",
      "c vale 4\n"
     ]
    }
   ],
   "source": [
    "c = 0\n",
    "while c < 5:\n",
    "    print(\"c vale\", c)\n",
    "    c+= 1"
   ]
  },
  {
   "cell_type": "code",
   "execution_count": 1,
   "metadata": {},
   "outputs": [
    {
     "name": "stdout",
     "output_type": "stream",
     "text": [
      "c vale 0\n",
      "c vale 1\n",
      "c vale 2\n",
      "c vale 3\n",
      "Rompemos el bucle cuando c vale 4\n"
     ]
    }
   ],
   "source": [
    "c = 0\n",
    "while (c < 5):\n",
    "    print(\"c vale\", c)\n",
    "    c+= 1\n",
    "    if (c == 4):\n",
    "        print(\"Rompemos el bucle cuando c vale\", c)\n",
    "        break\n",
    "else: # Se ejecutará cuando el while sea false\n",
    "    print(\"Se ha completado toda la iteración y c vale\", c)"
   ]
  },
  {
   "cell_type": "code",
   "execution_count": 2,
   "metadata": {},
   "outputs": [
    {
     "name": "stdout",
     "output_type": "stream",
     "text": [
      "c vale 1\n",
      "c vale 2\n",
      "c vale 5\n",
      "c vale 6\n",
      "Se ha completado toda la iteración y c vale 6\n"
     ]
    }
   ],
   "source": [
    "c = 0\n",
    "while (c <= 5):\n",
    "    c+= 1\n",
    "    if (c == 3) or (c == 4):\n",
    "         #print(\"Continuamos con la siguiente iteracion\", c)\n",
    "        continue\n",
    "    print(\"c vale\", c)\n",
    "else: # Se ejecutará cuando el while sea false\n",
    "    print(\"Se ha completado toda la iteración y c vale\", c)"
   ]
  },
  {
   "cell_type": "code",
   "execution_count": null,
   "metadata": {},
   "outputs": [],
   "source": []
  },
  {
   "cell_type": "code",
   "execution_count": null,
   "metadata": {},
   "outputs": [],
   "source": []
  },
  {
   "cell_type": "code",
   "execution_count": 1,
   "metadata": {},
   "outputs": [
    {
     "name": "stdout",
     "output_type": "stream",
     "text": [
      "Bienvenido al menú interactivo\n",
      "¿Que quieres hacer? Escribe una opción\n",
      "    1) Saludar\n",
      "    2) Sumar dos numeros\n",
      "    3) Salir\n",
      "1\n",
      "\n",
      "Hola, espero que te lo estes pasando bien\n",
      "\n",
      "¿Que quieres hacer? Escribe una opción\n",
      "    1) Saludar\n",
      "    2) Sumar dos numeros\n",
      "    3) Salir\n",
      "2\n",
      "\n",
      "Introduce el primer numero: 4\n",
      "Introduce el segundo numero: 6\n",
      "El resultado de la suma es:  10.0 \n",
      "\n",
      "¿Que quieres hacer? Escribe una opción\n",
      "    1) Saludar\n",
      "    2) Sumar dos numeros\n",
      "    3) Salir\n",
      "sedrf\n",
      "\n",
      "Comando desconocido, vuelve a intentarlo\n",
      "\n",
      "¿Que quieres hacer? Escribe una opción\n",
      "    1) Saludar\n",
      "    2) Sumar dos numeros\n",
      "    3) Salir\n",
      "3\n",
      "\n",
      "Hasta luego, ha sido un placer ayudarte\n",
      "\n"
     ]
    }
   ],
   "source": [
    "print(\"Bienvenido al menú interactivo\")\n",
    "while True:\n",
    "    print(\"\"\"¿Que quieres hacer? Escribe una opción\n",
    "    1) Saludar\n",
    "    2) Sumar dos numeros\n",
    "    3) Salir\"\"\")\n",
    "    opcion = input()\n",
    "    if opcion == '1':\n",
    "        print(\"\\nHola, espero que te lo estes pasando bien\\n\")\n",
    "    elif opcion == '2':\n",
    "        n1 = float(input(\"\\nIntroduce el primer numero: \"))\n",
    "        n2 = float(input(\"Introduce el segundo numero: \"))\n",
    "        print(\"El resultado de la suma es: \", n1 + n2, \"\\n\")\n",
    "    elif opcion == '3':\n",
    "        print(\"\\nHasta luego, ha sido un placer ayudarte\\n\")\n",
    "        break\n",
    "    else:\n",
    "        print(\"\\nComando desconocido, vuelve a intentarlo\\n\")"
   ]
  },
  {
   "cell_type": "code",
   "execution_count": null,
   "metadata": {},
   "outputs": [],
   "source": []
  }
 ],
 "metadata": {
  "kernelspec": {
   "display_name": "Python 3 (ipykernel)",
   "language": "python",
   "name": "python3"
  },
  "language_info": {
   "codemirror_mode": {
    "name": "ipython",
    "version": 3
   },
   "file_extension": ".py",
   "mimetype": "text/x-python",
   "name": "python",
   "nbconvert_exporter": "python",
   "pygments_lexer": "ipython3",
   "version": "3.10.5"
  }
 },
 "nbformat": 4,
 "nbformat_minor": 1
}
