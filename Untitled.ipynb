{
 "cells": [
  {
   "cell_type": "code",
   "execution_count": 5,
   "id": "715423a6",
   "metadata": {},
   "outputs": [],
   "source": [
    "from Mensajes.Bienvenidas.Saludos import *"
   ]
  },
  {
   "cell_type": "code",
   "execution_count": 7,
   "id": "c6c2bbde",
   "metadata": {},
   "outputs": [
    {
     "name": "stdout",
     "output_type": "stream",
     "text": [
      "Hola, te saludo desde saludos.saludar()\n"
     ]
    }
   ],
   "source": [
    "saludar()"
   ]
  },
  {
   "cell_type": "code",
   "execution_count": 8,
   "id": "82320d68",
   "metadata": {},
   "outputs": [
    {
     "name": "stdout",
     "output_type": "stream",
     "text": [
      "Hola, te saludo desde Saludo.__init__()\n"
     ]
    },
    {
     "data": {
      "text/plain": [
       "<Mensajes.Bienvenidas.Saludos.Saludo at 0x1cd15c5b510>"
      ]
     },
     "execution_count": 8,
     "metadata": {},
     "output_type": "execute_result"
    }
   ],
   "source": [
    "Saludo()"
   ]
  },
  {
   "cell_type": "code",
   "execution_count": 9,
   "id": "f72e3166",
   "metadata": {},
   "outputs": [
    {
     "name": "stdout",
     "output_type": "stream",
     "text": [
      "Cargando el subpaquete Mensajes.Despedidas\n"
     ]
    }
   ],
   "source": [
    "from Mensajes.Despedidas.Adios import *"
   ]
  },
  {
   "cell_type": "code",
   "execution_count": 10,
   "id": "29b75c6a",
   "metadata": {},
   "outputs": [
    {
     "name": "stdout",
     "output_type": "stream",
     "text": [
      "Adios, me despido desde Despedidas.despedir()\n"
     ]
    }
   ],
   "source": [
    "despedir()"
   ]
  },
  {
   "cell_type": "code",
   "execution_count": 11,
   "id": "b7634865",
   "metadata": {},
   "outputs": [
    {
     "name": "stdout",
     "output_type": "stream",
     "text": [
      "Adios, me despido desde Despedida.__init__()\n"
     ]
    },
    {
     "data": {
      "text/plain": [
       "<Mensajes.Despedidas.Adios.Despedida at 0x1cd15c86050>"
      ]
     },
     "execution_count": 11,
     "metadata": {},
     "output_type": "execute_result"
    }
   ],
   "source": [
    "Despedida()"
   ]
  },
  {
   "cell_type": "code",
   "execution_count": 13,
   "id": "25ea2d89",
   "metadata": {},
   "outputs": [
    {
     "name": "stdout",
     "output_type": "stream",
     "text": [
      "Package                  Version\n",
      "------------------------ -----------\n",
      "anyio                    3.6.2\n",
      "argon2-cffi              21.3.0\n",
      "argon2-cffi-bindings     21.2.0\n",
      "arrow                    1.2.3\n",
      "asttokens                2.2.1\n",
      "attrs                    22.2.0\n",
      "backcall                 0.2.0\n",
      "beautifulsoup4           4.11.1\n",
      "bleach                   5.0.1\n",
      "cffi                     1.15.1\n",
      "colorama                 0.4.6\n",
      "comm                     0.1.2\n",
      "debugpy                  1.6.4\n",
      "decorator                5.1.1\n",
      "defusedxml               0.7.1\n",
      "entrypoints              0.4\n",
      "executing                1.2.0\n",
      "fastjsonschema           2.16.2\n",
      "fqdn                     1.5.1\n",
      "idna                     3.4\n",
      "ipykernel                6.19.4\n",
      "ipython                  8.7.0\n",
      "ipython-genutils         0.2.0\n",
      "isoduration              20.11.0\n",
      "jedi                     0.18.2\n",
      "Jinja2                   3.1.2\n",
      "jsonpointer              2.3\n",
      "jsonschema               4.17.3\n",
      "jupyter_client           7.4.8\n",
      "jupyter_core             5.1.1\n",
      "jupyter-events           0.5.0\n",
      "jupyter_server           2.0.5\n",
      "jupyter_server_terminals 0.4.3\n",
      "jupyterlab-pygments      0.2.2\n",
      "MarkupSafe               2.1.1\n",
      "matplotlib-inline        0.1.6\n",
      "Mensajes                 1.0\n",
      "mistune                  2.0.4\n",
      "nbclassic                0.4.8\n",
      "nbclient                 0.7.2\n",
      "nbconvert                7.2.7\n",
      "nbformat                 5.7.1\n",
      "nest-asyncio             1.5.6\n",
      "notebook                 6.5.2\n",
      "notebook_shim            0.2.2\n",
      "packaging                22.0\n",
      "pandocfilters            1.5.0\n",
      "parso                    0.8.3\n",
      "pickleshare              0.7.5\n",
      "pip                      22.3.1\n",
      "platformdirs             2.6.0\n",
      "prometheus-client        0.15.0\n",
      "prompt-toolkit           3.0.36\n",
      "psutil                   5.9.4\n",
      "pure-eval                0.2.2\n",
      "pycparser                2.21\n",
      "Pygments                 2.13.0\n",
      "pyrsistent               0.19.2\n",
      "python-dateutil          2.8.2\n",
      "python-json-logger       2.0.4\n",
      "pywin32                  305\n",
      "pywinpty                 2.0.9\n",
      "PyYAML                   6.0\n",
      "pyzmq                    24.0.1\n",
      "rfc3339-validator        0.1.4\n",
      "rfc3986-validator        0.1.1\n",
      "Send2Trash               1.8.0\n",
      "setuptools               65.5.0\n",
      "six                      1.16.0\n",
      "sniffio                  1.3.0\n",
      "soupsieve                2.3.2.post1\n",
      "stack-data               0.6.2\n",
      "terminado                0.17.1\n",
      "tinycss2                 1.2.1\n",
      "tornado                  6.2\n",
      "traitlets                5.8.0\n",
      "uri-template             1.2.0\n",
      "wcwidth                  0.2.5\n",
      "webcolors                1.12\n",
      "webencodings             0.5.1\n",
      "websocket-client         1.4.2\n"
     ]
    }
   ],
   "source": [
    "!pip list"
   ]
  },
  {
   "cell_type": "code",
   "execution_count": 14,
   "id": "9cc98588",
   "metadata": {},
   "outputs": [
    {
     "name": "stdout",
     "output_type": "stream",
     "text": [
      "Package                  Version\n",
      "------------------------ -----------\n",
      "anyio                    3.6.2\n",
      "argon2-cffi              21.3.0\n",
      "argon2-cffi-bindings     21.2.0\n",
      "arrow                    1.2.3\n",
      "asttokens                2.2.1\n",
      "attrs                    22.2.0\n",
      "backcall                 0.2.0\n",
      "beautifulsoup4           4.11.1\n",
      "bleach                   5.0.1\n",
      "cffi                     1.15.1\n",
      "colorama                 0.4.6\n",
      "comm                     0.1.2\n",
      "debugpy                  1.6.4\n",
      "decorator                5.1.1\n",
      "defusedxml               0.7.1\n",
      "entrypoints              0.4\n",
      "executing                1.2.0\n",
      "fastjsonschema           2.16.2\n",
      "fqdn                     1.5.1\n",
      "idna                     3.4\n",
      "ipykernel                6.19.4\n",
      "ipython                  8.7.0\n",
      "ipython-genutils         0.2.0\n",
      "isoduration              20.11.0\n",
      "jedi                     0.18.2\n",
      "Jinja2                   3.1.2\n",
      "jsonpointer              2.3\n",
      "jsonschema               4.17.3\n",
      "jupyter_client           7.4.8\n",
      "jupyter_core             5.1.1\n",
      "jupyter-events           0.5.0\n",
      "jupyter_server           2.0.5\n",
      "jupyter_server_terminals 0.4.3\n",
      "jupyterlab-pygments      0.2.2\n",
      "MarkupSafe               2.1.1\n",
      "matplotlib-inline        0.1.6\n",
      "Mensajes                 2.0\n",
      "mistune                  2.0.4\n",
      "nbclassic                0.4.8\n",
      "nbclient                 0.7.2\n",
      "nbconvert                7.2.7\n",
      "nbformat                 5.7.1\n",
      "nest-asyncio             1.5.6\n",
      "notebook                 6.5.2\n",
      "notebook_shim            0.2.2\n",
      "packaging                22.0\n",
      "pandocfilters            1.5.0\n",
      "parso                    0.8.3\n",
      "pickleshare              0.7.5\n",
      "pip                      22.3.1\n",
      "platformdirs             2.6.0\n",
      "prometheus-client        0.15.0\n",
      "prompt-toolkit           3.0.36\n",
      "psutil                   5.9.4\n",
      "pure-eval                0.2.2\n",
      "pycparser                2.21\n",
      "Pygments                 2.13.0\n",
      "pyrsistent               0.19.2\n",
      "python-dateutil          2.8.2\n",
      "python-json-logger       2.0.4\n",
      "pywin32                  305\n",
      "pywinpty                 2.0.9\n",
      "PyYAML                   6.0\n",
      "pyzmq                    24.0.1\n",
      "rfc3339-validator        0.1.4\n",
      "rfc3986-validator        0.1.1\n",
      "Send2Trash               1.8.0\n",
      "setuptools               65.5.0\n",
      "six                      1.16.0\n",
      "sniffio                  1.3.0\n",
      "soupsieve                2.3.2.post1\n",
      "stack-data               0.6.2\n",
      "terminado                0.17.1\n",
      "tinycss2                 1.2.1\n",
      "tornado                  6.2\n",
      "traitlets                5.8.0\n",
      "uri-template             1.2.0\n",
      "wcwidth                  0.2.5\n",
      "webcolors                1.12\n",
      "webencodings             0.5.1\n",
      "websocket-client         1.4.2\n"
     ]
    }
   ],
   "source": [
    "!pip list"
   ]
  },
  {
   "cell_type": "code",
   "execution_count": 1,
   "id": "e02f204c",
   "metadata": {},
   "outputs": [
    {
     "name": "stdout",
     "output_type": "stream",
     "text": [
      "Cargando el paquete Mensajes\n",
      "Cargando el subpaquete Mensajes.Bienvenida\n"
     ]
    }
   ],
   "source": [
    "from Mensajes.Bienvenidas.Saludos import *"
   ]
  },
  {
   "cell_type": "code",
   "execution_count": 2,
   "id": "2113a3b2",
   "metadata": {},
   "outputs": [
    {
     "name": "stdout",
     "output_type": "stream",
     "text": [
      "Esto es una prueba de la nueva version\n"
     ]
    }
   ],
   "source": [
    "prueba()"
   ]
  },
  {
   "cell_type": "code",
   "execution_count": null,
   "id": "02beb94f",
   "metadata": {},
   "outputs": [],
   "source": []
  }
 ],
 "metadata": {
  "kernelspec": {
   "display_name": "Python 3 (ipykernel)",
   "language": "python",
   "name": "python3"
  },
  "language_info": {
   "codemirror_mode": {
    "name": "ipython",
    "version": 3
   },
   "file_extension": ".py",
   "mimetype": "text/x-python",
   "name": "python",
   "nbconvert_exporter": "python",
   "pygments_lexer": "ipython3",
   "version": "3.11.1"
  }
 },
 "nbformat": 4,
 "nbformat_minor": 5
}
