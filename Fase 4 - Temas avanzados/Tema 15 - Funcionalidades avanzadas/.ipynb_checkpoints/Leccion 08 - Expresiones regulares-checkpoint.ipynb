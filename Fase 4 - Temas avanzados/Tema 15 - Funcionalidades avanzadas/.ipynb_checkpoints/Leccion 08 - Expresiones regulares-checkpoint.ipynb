{
 "cells": [
  {
   "cell_type": "markdown",
   "metadata": {},
   "source": [
    "# Expresiones regulares"
   ]
  },
  {
   "cell_type": "code",
   "execution_count": 3,
   "metadata": {},
   "outputs": [
    {
     "data": {
      "text/plain": [
       "<re.Match object; span=(40, 46), match='magica'>"
      ]
     },
     "execution_count": 3,
     "metadata": {},
     "output_type": "execute_result"
    }
   ],
   "source": [
    "import re\n",
    "\n",
    "texto = 'En esta cadena se encuentra una palabra magica'\n",
    "\n",
    "# re.search() Buscar un patron\n",
    "# No devuelve True o False. Es un objeto que existe o es None\n",
    "re.search('magica', texto)"
   ]
  },
  {
   "cell_type": "code",
   "execution_count": 4,
   "metadata": {},
   "outputs": [],
   "source": [
    "re.search('hola', texto)"
   ]
  },
  {
   "cell_type": "code",
   "execution_count": 5,
   "metadata": {},
   "outputs": [],
   "source": [
    "palabra = 'magica'\n",
    "encontrado = re.search(palabra, texto)"
   ]
  },
  {
   "cell_type": "code",
   "execution_count": 6,
   "metadata": {},
   "outputs": [
    {
     "name": "stdout",
     "output_type": "stream",
     "text": [
      "Se ha encontrado la palabra\n"
     ]
    }
   ],
   "source": [
    "if encontrado is not None:\n",
    "    print('Se ha encontrado la palabra')\n",
    "else:\n",
    "    print('No se ha encontrado la palabra')"
   ]
  },
  {
   "cell_type": "code",
   "execution_count": 7,
   "metadata": {},
   "outputs": [
    {
     "data": {
      "text/plain": [
       "40"
      ]
     },
     "execution_count": 7,
     "metadata": {},
     "output_type": "execute_result"
    }
   ],
   "source": [
    "encontrado.start() # Posicion en donde empieza la coincidencia"
   ]
  },
  {
   "cell_type": "code",
   "execution_count": 8,
   "metadata": {},
   "outputs": [
    {
     "data": {
      "text/plain": [
       "46"
      ]
     },
     "execution_count": 8,
     "metadata": {},
     "output_type": "execute_result"
    }
   ],
   "source": [
    "encontrado.end()# Posicion en donde termina la coincidencia"
   ]
  },
  {
   "cell_type": "code",
   "execution_count": 9,
   "metadata": {},
   "outputs": [
    {
     "data": {
      "text/plain": [
       "(40, 46)"
      ]
     },
     "execution_count": 9,
     "metadata": {},
     "output_type": "execute_result"
    }
   ],
   "source": [
    "encontrado.span() # Devuelve una tupla con el inicio y fin del patron"
   ]
  },
  {
   "cell_type": "code",
   "execution_count": 10,
   "metadata": {},
   "outputs": [
    {
     "data": {
      "text/plain": [
       "'En esta cadena se encuentra una palabra magica'"
      ]
     },
     "execution_count": 10,
     "metadata": {},
     "output_type": "execute_result"
    }
   ],
   "source": [
    "encontrado.string # Devuelve la cadena de donde proviene"
   ]
  },
  {
   "cell_type": "code",
   "execution_count": 11,
   "metadata": {},
   "outputs": [
    {
     "data": {
      "text/plain": [
       "<re.Match object; span=(0, 4), match='Hola'>"
      ]
     },
     "execution_count": 11,
     "metadata": {},
     "output_type": "execute_result"
    }
   ],
   "source": [
    "# re.match() Buscar un patron al principio de otra cadena\n",
    "texto = 'Hola mundo'\n",
    "re.match('Hola', texto)"
   ]
  },
  {
   "cell_type": "code",
   "execution_count": 12,
   "metadata": {},
   "outputs": [
    {
     "data": {
      "text/plain": [
       "['Hola', 'mundo']"
      ]
     },
     "execution_count": 12,
     "metadata": {},
     "output_type": "execute_result"
    }
   ],
   "source": [
    "# re.split() Dividir una cadena\n",
    "\n",
    "re.split(' ', texto) "
   ]
  },
  {
   "cell_type": "code",
   "execution_count": 13,
   "metadata": {},
   "outputs": [
    {
     "data": {
      "text/plain": [
       "'Hola amiga'"
      ]
     },
     "execution_count": 13,
     "metadata": {},
     "output_type": "execute_result"
    }
   ],
   "source": [
    "# re.sub() Sustituye todas las coincidencias en una cadena\n",
    "texto = 'Hola amigo'\n",
    "re.sub('amigo','amiga', texto)"
   ]
  },
  {
   "cell_type": "code",
   "execution_count": 14,
   "metadata": {},
   "outputs": [
    {
     "data": {
      "text/plain": [
       "['Hola', 'Hola', 'Hola']"
      ]
     },
     "execution_count": 14,
     "metadata": {},
     "output_type": "execute_result"
    }
   ],
   "source": [
    "# re.findall() Buscar todas las coincidencias en una cadena\n",
    "texto = \"Hola adios Hola Hola\"\n",
    "\n",
    "re.findall('Hola', texto)"
   ]
  },
  {
   "cell_type": "code",
   "execution_count": 15,
   "metadata": {},
   "outputs": [
    {
     "data": {
      "text/plain": [
       "3"
      ]
     },
     "execution_count": 15,
     "metadata": {},
     "output_type": "execute_result"
    }
   ],
   "source": [
    "len(re.findall('Hola', texto))"
   ]
  },
  {
   "cell_type": "code",
   "execution_count": 16,
   "metadata": {},
   "outputs": [
    {
     "data": {
      "text/plain": [
       "4"
      ]
     },
     "execution_count": 16,
     "metadata": {},
     "output_type": "execute_result"
    }
   ],
   "source": [
    "len(re.findall('a', texto))"
   ]
  },
  {
   "cell_type": "code",
   "execution_count": 17,
   "metadata": {},
   "outputs": [
    {
     "data": {
      "text/plain": [
       "['Hola ', ' Hello']"
      ]
     },
     "execution_count": 17,
     "metadata": {},
     "output_type": "execute_result"
    }
   ],
   "source": [
    "texto = \"Hola adios Hello bye\"\n",
    "\n",
    "re.findall('(Hola | Hello)', texto)"
   ]
  },
  {
   "cell_type": "code",
   "execution_count": 18,
   "metadata": {},
   "outputs": [
    {
     "name": "stdout",
     "output_type": "stream",
     "text": [
      "['hla']\n",
      "['hola']\n",
      "['hoola']\n"
     ]
    }
   ],
   "source": [
    "# Patrones con sintaxis repetida\n",
    "\n",
    "texto = 'hla hola hoola hooola hooooooola'\n",
    "\n",
    "def buscar(patrones, texto):\n",
    "    for patron in patrones:\n",
    "        print(re.findall(patron, texto))\n",
    "\n",
    "patrones = ['hla', 'hola', 'hoola']\n",
    "\n",
    "buscar(patrones, texto)"
   ]
  },
  {
   "cell_type": "code",
   "execution_count": 19,
   "metadata": {},
   "outputs": [
    {
     "name": "stdout",
     "output_type": "stream",
     "text": [
      "['ho', 'ho', 'ho', 'ho']\n",
      "['hla', 'hola', 'hoola', 'hooola', 'hooooooola']\n"
     ]
    }
   ],
   "source": [
    "texto = 'hla hola hoola hooola hooooooola'\n",
    "\n",
    "# Meta-caracter *\n",
    "# Ninguna o mas repeticiones de la letra a su izquierda\n",
    "\n",
    "patrones = ['ho', 'ho*la'] #Buscamos ninguna o mas o's\n",
    "buscar(patrones, texto)"
   ]
  },
  {
   "cell_type": "code",
   "execution_count": 20,
   "metadata": {},
   "outputs": [
    {
     "name": "stdout",
     "output_type": "stream",
     "text": [
      "['hla', 'hola', 'hoola', 'hooola', 'hooooooola']\n",
      "['hola', 'hoola', 'hooola', 'hooooooola']\n"
     ]
    }
   ],
   "source": [
    "# Meta-caracter +\n",
    "# Una o mas repeticiones de la letra a su izquierda\n",
    "\n",
    "texto = 'hla hola hoola hooola hooooooola'\n",
    "patrones = ['ho*la', 'ho+la'] #Buscamos una o mas o's\n",
    "\n",
    "buscar(patrones, texto)"
   ]
  },
  {
   "cell_type": "code",
   "execution_count": 21,
   "metadata": {},
   "outputs": [
    {
     "name": "stdout",
     "output_type": "stream",
     "text": [
      "['hla', 'hola']\n"
     ]
    }
   ],
   "source": [
    "# Meta-caracter ?\n",
    "# Una o ninguna repeticion de la letra a su izquierda\n",
    "\n",
    "texto = 'hla hola hoola hooola hooooooola'\n",
    "patrones = ['ho?la'] #Buscamos una ninguna  o\n",
    "\n",
    "buscar(patrones, texto)"
   ]
  },
  {
   "cell_type": "code",
   "execution_count": 22,
   "metadata": {},
   "outputs": [
    {
     "name": "stdout",
     "output_type": "stream",
     "text": [
      "['hla']\n",
      "['hooola']\n"
     ]
    }
   ],
   "source": [
    "# Sintaxis con {n}. Indica un numero de repeticiones explicito de\n",
    "# la letra a su izquierda\n",
    "\n",
    "texto = 'hla hola hoola hooola hooooooola'\n",
    "patrones = ['ho{0}la', 'ho{3}la']\n",
    "\n",
    "buscar(patrones, texto)"
   ]
  },
  {
   "cell_type": "code",
   "execution_count": 23,
   "metadata": {},
   "outputs": [
    {
     "name": "stdout",
     "output_type": "stream",
     "text": [
      "['hla', 'hola']\n",
      "['hola', 'hoola']\n",
      "['hoola', 'hooola', 'hooooooola']\n"
     ]
    }
   ],
   "source": [
    "# Sintaxis con un rango {n,m}. Indica un numero de repeticiones \n",
    "# explicito de la letra a su izquierda\n",
    "texto = 'hla hola hoola hooola hooooooola'\n",
    "patrones = ['ho{0,1}la', 'ho{1,2}la', 'ho{2,10}la']\n",
    "\n",
    "buscar(patrones, texto)\n"
   ]
  },
  {
   "cell_type": "code",
   "execution_count": 26,
   "metadata": {},
   "outputs": [
    {
     "name": "stdout",
     "output_type": "stream",
     "text": [
      "['hola', 'hula']\n",
      "['hala', 'hila', 'hola']\n",
      "['hala', 'hela', 'hila', 'hola', 'hula']\n"
     ]
    }
   ],
   "source": [
    "# Conjuntos de caracteres []\n",
    "\n",
    "texto = 'hala hela hila hola hula'\n",
    "patrones = ['h[ou]la', 'h[aio]la', 'h[aeiou]la']\n",
    "\n",
    "buscar(patrones, texto)"
   ]
  },
  {
   "cell_type": "code",
   "execution_count": 28,
   "metadata": {},
   "outputs": [
    {
     "name": "stdout",
     "output_type": "stream",
     "text": [
      "['hula']\n",
      "[]\n",
      "['haaaaaaaaaala', 'heeeeela', 'hiiiiiiiiiiiila', 'hooooooooooola', 'hula']\n"
     ]
    }
   ],
   "source": [
    "texto = 'haaaaaaaaaala heeeeela hiiiiiiiiiiiila hooooooooooola hula'\n",
    "patrones = ['h[ou]la', 'h[aio]{2, 6}la', 'h[aeiou]*la']\n",
    "\n",
    "buscar(patrones, texto)"
   ]
  },
  {
   "cell_type": "code",
   "execution_count": 29,
   "metadata": {},
   "outputs": [
    {
     "name": "stdout",
     "output_type": "stream",
     "text": [
      "['hula']\n"
     ]
    }
   ],
   "source": [
    "# Exclusion en conjunto [^]\n",
    "\n",
    "texto = 'haaaaaaaaaala heeeeela hiiiiiiiiiiiila hooooooooooola hula'\n",
    "\n",
    "patrones = ['h[^o]la']\n",
    "\n",
    "buscar(patrones, texto)"
   ]
  },
  {
   "cell_type": "code",
   "execution_count": 34,
   "metadata": {},
   "outputs": [
    {
     "name": "stdout",
     "output_type": "stream",
     "text": [
      "['hola']\n",
      "['h0la']\n",
      "['hola', 'Hola', 'mola']\n",
      "['Hola', 'M0la']\n"
     ]
    }
   ],
   "source": [
    "# Rangos []\n",
    "# [A-Z]\n",
    "# [a-z]\n",
    "# [A-Za-z]\n",
    "# [A-z]\n",
    "# [0-9]\n",
    "# [a-zA-Z0-9]\n",
    "\n",
    "texto = 'hola h0la Hola mola m0la M0la'\n",
    "patrones = ['h[a-z]la', 'h[0-9]la', '[A-z]{4}', '[A-Z][A-z0-9]{3}']\n",
    "\n",
    "buscar(patrones, texto)"
   ]
  },
  {
   "cell_type": "code",
   "execution_count": 46,
   "metadata": {},
   "outputs": [
    {
     "name": "stdout",
     "output_type": "stream",
     "text": [
      "['3', '2', '0', '1', '6']\n",
      "['3', '2016']\n",
      "['Este curso de Python ', ' se publico en el ']\n",
      "[' ', ' ', ' ', ' ', ' ', ' ', ' ', ' ', ' ']\n",
      "['E', 's', 't', 'e', 'c', 'u', 'r', 's', 'o', 'd', 'e', 'P', 'y', 't', 'h', 'o', 'n', '3', 's', 'e', 'p', 'u', 'b', 'l', 'i', 'c', 'o', 'e', 'n', 'e', 'l', '2', '0', '1', '6']\n",
      "['Este', 'curso', 'de', 'Python', '3', 'se', 'publico', 'en', 'el', '2016']\n",
      "['Este', 'curso', 'de', 'Python', '3', 'se', 'publico', 'en', 'el', '2016']\n",
      "[' ', ' ', ' ', ' ', ' ', ' ', ' ', ' ', ' ']\n",
      "[' ', ' ', ' ', ' ', ' ', ' ', ' ', ' ', ' ']\n"
     ]
    }
   ],
   "source": [
    "# Caracteres escapados\n",
    "# \\d numerico\n",
    "# \\D no numerico\n",
    "# \\s espacio en blanco\n",
    "# \\S no espacio en blanco\n",
    "# \\w alfanumerico\n",
    "# \\W no alfanumerico\n",
    "\n",
    "texto = 'Este curso de Python 3 se publico en el 2016'\n",
    "\n",
    "patrones = [r'\\d', r'\\d+', r'\\D+', r'\\s', r'\\S', r'\\S+',  r'\\w+', r'\\W',  r'\\W+']\n",
    "buscar(patrones, texto)"
   ]
  },
  {
   "cell_type": "code",
   "execution_count": null,
   "metadata": {},
   "outputs": [],
   "source": []
  }
 ],
 "metadata": {
  "anaconda-cloud": {},
  "kernelspec": {
   "display_name": "Python 3 (ipykernel)",
   "language": "python",
   "name": "python3"
  },
  "language_info": {
   "codemirror_mode": {
    "name": "ipython",
    "version": 3
   },
   "file_extension": ".py",
   "mimetype": "text/x-python",
   "name": "python",
   "nbconvert_exporter": "python",
   "pygments_lexer": "ipython3",
   "version": "3.11.1"
  }
 },
 "nbformat": 4,
 "nbformat_minor": 1
}
