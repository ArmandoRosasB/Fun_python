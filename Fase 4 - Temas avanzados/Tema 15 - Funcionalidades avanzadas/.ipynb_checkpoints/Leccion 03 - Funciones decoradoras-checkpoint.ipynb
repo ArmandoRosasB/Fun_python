{
 "cells": [
  {
   "cell_type": "markdown",
   "metadata": {},
   "source": [
    "# Ámbitos y funciones decoradoras"
   ]
  },
  {
   "cell_type": "markdown",
   "metadata": {},
   "source": [
    "#### NOTA: Antes de realizar esta lección debes reiniciar Jupyter Notebook para vaciar la memoria."
   ]
  },
  {
   "cell_type": "code",
   "execution_count": 1,
   "metadata": {},
   "outputs": [],
   "source": [
    "def hola():\n",
    "    \n",
    "    def bienvenido():\n",
    "        return 'Hola!'\n",
    "    \n",
    "    return bienvenido"
   ]
  },
  {
   "cell_type": "code",
   "execution_count": 4,
   "metadata": {},
   "outputs": [
    {
     "ename": "AttributeError",
     "evalue": "'function' object has no attribute 'bienvenido'",
     "output_type": "error",
     "traceback": [
      "\u001b[1;31m---------------------------------------------------------------------------\u001b[0m",
      "\u001b[1;31mAttributeError\u001b[0m                            Traceback (most recent call last)",
      "Cell \u001b[1;32mIn[4], line 1\u001b[0m\n\u001b[1;32m----> 1\u001b[0m \u001b[43mhola\u001b[49m\u001b[43m(\u001b[49m\u001b[43m)\u001b[49m\u001b[38;5;241;43m.\u001b[39;49m\u001b[43mbienvenido\u001b[49m()\n",
      "\u001b[1;31mAttributeError\u001b[0m: 'function' object has no attribute 'bienvenido'"
     ]
    }
   ],
   "source": [
    "bienvenido()"
   ]
  },
  {
   "cell_type": "code",
   "execution_count": 5,
   "metadata": {},
   "outputs": [
    {
     "data": {
      "text/plain": [
       "<function __main__.hola.<locals>.bienvenido()>"
      ]
     },
     "execution_count": 5,
     "metadata": {},
     "output_type": "execute_result"
    }
   ],
   "source": [
    "hola()"
   ]
  },
  {
   "cell_type": "code",
   "execution_count": 1,
   "metadata": {},
   "outputs": [
    {
     "name": "stdout",
     "output_type": "stream",
     "text": [
      "{'numero': 50, 'bienvenido': <function hola.<locals>.bienvenido at 0x000001833E6C2660>}\n",
      "{'__name__': '__main__', '__doc__': 'Automatically created module for IPython interactive environment', '__package__': None, '__loader__': None, '__spec__': None, '__builtin__': <module 'builtins' (built-in)>, '__builtins__': <module 'builtins' (built-in)>, '_ih': ['', \"lista = [1,2,3] # Ambito global\\n\\ndef hola():\\n    \\n    numero = 50\\n    \\n    def bienvenido():\\n        return 'Hola!'\\n    \\n    print(locals()) # Ambito local de la funcion hola()\\n    print(globals()) # Ambito global\\n    \\n    return bienvenido\\n\\nhola()\"], '_oh': {}, '_dh': [WindowsPath('C:/Users/arman/OneDrive/Documents/Fun_python/Fase 4 - Temas avanzados/Tema 15 - Funcionalidades avanzadas')], 'In': ['', \"lista = [1,2,3] # Ambito global\\n\\ndef hola():\\n    \\n    numero = 50\\n    \\n    def bienvenido():\\n        return 'Hola!'\\n    \\n    print(locals()) # Ambito local de la funcion hola()\\n    print(globals()) # Ambito global\\n    \\n    return bienvenido\\n\\nhola()\"], 'Out': {}, 'get_ipython': <bound method InteractiveShell.get_ipython of <ipykernel.zmqshell.ZMQInteractiveShell object at 0x000001833E6DD7D0>>, 'exit': <IPython.core.autocall.ZMQExitAutocall object at 0x000001833E6E9150>, 'quit': <IPython.core.autocall.ZMQExitAutocall object at 0x000001833E6E9150>, 'open': <function open at 0x000001833BC14F40>, '_': '', '__': '', '___': '', '_i': '', '_ii': '', '_iii': '', '_i1': \"lista = [1,2,3] # Ambito global\\n\\ndef hola():\\n    \\n    numero = 50\\n    \\n    def bienvenido():\\n        return 'Hola!'\\n    \\n    print(locals()) # Ambito local de la funcion hola()\\n    print(globals()) # Ambito global\\n    \\n    return bienvenido\\n\\nhola()\", 'lista': [1, 2, 3], 'hola': <function hola at 0x000001833E6C2B60>}\n"
     ]
    },
    {
     "data": {
      "text/plain": [
       "<function __main__.hola.<locals>.bienvenido()>"
      ]
     },
     "execution_count": 1,
     "metadata": {},
     "output_type": "execute_result"
    }
   ],
   "source": [
    "lista = [1,2,3] # Ambito global\n",
    "\n",
    "def hola():\n",
    "    \n",
    "    numero = 50\n",
    "    \n",
    "    def bienvenido():\n",
    "        return 'Hola!'\n",
    "    \n",
    "    print(locals()) # Ambito local de la funcion hola()\n",
    "    print(globals()) # Ambito global\n",
    "    \n",
    "    return bienvenido\n",
    "\n",
    "hola()"
   ]
  },
  {
   "cell_type": "code",
   "execution_count": 5,
   "metadata": {},
   "outputs": [
    {
     "data": {
      "text/plain": [
       "dict_keys(['__name__', '__doc__', '__package__', '__loader__', '__spec__', '__builtin__', '__builtins__', '_ih', '_oh', '_dh', 'In', 'Out', 'get_ipython', 'exit', 'quit', 'open', '_', '__', '___', '_i', '_ii', '_iii', '_i1', 'lista', 'hola', '_1', '_i2', '_2', '_i3', '_3', '_i4', '_4', '_i5'])"
      ]
     },
     "execution_count": 5,
     "metadata": {},
     "output_type": "execute_result"
    }
   ],
   "source": [
    "globals().keys()"
   ]
  },
  {
   "cell_type": "code",
   "execution_count": 6,
   "metadata": {},
   "outputs": [
    {
     "data": {
      "text/plain": [
       "[1, 2, 3]"
      ]
     },
     "execution_count": 6,
     "metadata": {},
     "output_type": "execute_result"
    }
   ],
   "source": [
    "globals()['lista']"
   ]
  },
  {
   "cell_type": "code",
   "execution_count": 8,
   "metadata": {},
   "outputs": [
    {
     "data": {
      "text/plain": [
       "<function __main__.hola.<locals>.bienvenido()>"
      ]
     },
     "execution_count": 8,
     "metadata": {},
     "output_type": "execute_result"
    }
   ],
   "source": [
    "def hola(): # No se ejecuta, solo devuelve la funcion bienvenido\n",
    "    \n",
    "    def bienvenido():\n",
    "        return 'Hola!'\n",
    "    \n",
    "    return bienvenido\n",
    "\n",
    "hola()"
   ]
  },
  {
   "cell_type": "code",
   "execution_count": 9,
   "metadata": {},
   "outputs": [
    {
     "data": {
      "text/plain": [
       "'Hola!'"
      ]
     },
     "execution_count": 9,
     "metadata": {},
     "output_type": "execute_result"
    }
   ],
   "source": [
    " # Primer parentesis para ejecutar hola() y despues para ejecutar bienvenido()\n",
    "hola()()"
   ]
  },
  {
   "cell_type": "code",
   "execution_count": 10,
   "metadata": {},
   "outputs": [
    {
     "data": {
      "text/plain": [
       "'Hola!'"
      ]
     },
     "execution_count": 10,
     "metadata": {},
     "output_type": "execute_result"
    }
   ],
   "source": [
    "bienvenido = hola() # Guardamos la funcion bienvenido\n",
    "bienvenido() # Ejecutamos"
   ]
  },
  {
   "cell_type": "code",
   "execution_count": 11,
   "metadata": {},
   "outputs": [
    {
     "data": {
      "text/plain": [
       "'Hola!'"
      ]
     },
     "execution_count": 11,
     "metadata": {},
     "output_type": "execute_result"
    }
   ],
   "source": [
    "del(hola)\n",
    "bienvenido()"
   ]
  },
  {
   "cell_type": "code",
   "execution_count": 13,
   "metadata": {},
   "outputs": [
    {
     "name": "stdout",
     "output_type": "stream",
     "text": [
      "Hola!\n"
     ]
    }
   ],
   "source": [
    "# Funciones decoradoras\n",
    "def hola():\n",
    "    return 'Hola!'\n",
    "\n",
    "def test(function): # Funcion como parametro\n",
    "    print(function())\n",
    "    \n",
    "test(hola)"
   ]
  },
  {
   "cell_type": "code",
   "execution_count": null,
   "metadata": {},
   "outputs": [],
   "source": [
    "def hola():\n",
    "    print('Hola!')\n",
    "\n",
    "def adios()"
   ]
  }
 ],
 "metadata": {
  "anaconda-cloud": {},
  "kernelspec": {
   "display_name": "Python 3 (ipykernel)",
   "language": "python",
   "name": "python3"
  },
  "language_info": {
   "codemirror_mode": {
    "name": "ipython",
    "version": 3
   },
   "file_extension": ".py",
   "mimetype": "text/x-python",
   "name": "python",
   "nbconvert_exporter": "python",
   "pygments_lexer": "ipython3",
   "version": "3.11.1"
  }
 },
 "nbformat": 4,
 "nbformat_minor": 1
}
