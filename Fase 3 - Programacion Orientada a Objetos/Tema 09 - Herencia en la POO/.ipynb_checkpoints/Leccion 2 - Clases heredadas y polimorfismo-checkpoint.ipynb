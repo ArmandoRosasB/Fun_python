{
 "cells": [
  {
   "cell_type": "code",
   "execution_count": 11,
   "metadata": {},
   "outputs": [],
   "source": [
    "class Producto:\n",
    "    def __init__(self, referencia, nombre, pvp, descripcion, productor = None, distribuidor = None, isbn = None, autor = None):\n",
    "        self._referencia = referencia\n",
    "        self._nombre = nombre\n",
    "        self._pvp = pvp\n",
    "        self._descripcion = descripcion\n",
    "\n",
    "    \n",
    "    def getReferencia(self):\n",
    "        return self._referencia\n",
    "\n",
    "    def getNombre(self):\n",
    "        return self._nombre\n",
    "\n",
    "    def getPvp(self):\n",
    "        return self._pvp\n",
    "\n",
    "    def getDescripcion(self):\n",
    "        return self._descripcion\n",
    "    \n",
    "    def setReferencia(self, referencia):\n",
    "        self._referencia = referencia\n",
    "        \n",
    "    def setPvp(self, pvp):\n",
    "        self._pvp = pvp\n",
    "    \n",
    "    def aplicarDescuento(self, descuento):\n",
    "        self._pvp = self._pvp - self._pvp / 100 * descuento\n",
    "\n",
    "    def __str__(self):\n",
    "        return f'''\\\n",
    "REFERENCIA\\t{self._referencia}\n",
    "NOMBRE\\t\\t{self._nombre}\n",
    "PVP\\t\\t{self._pvp}\n",
    "DESCRIPCION\\t{self._descripcion}\n",
    "        '''\n",
    "\n",
    "class Adorno(Producto):\n",
    "    pass\n",
    "\n",
    "class Alimento(Producto):\n",
    "    __productor = \"\"\n",
    "    __distribuidor = \"\"\n",
    "\n",
    "    def setProductor(self, productor):\n",
    "        self.__productor = productor\n",
    "    \n",
    "    def setDistribuidor(self, distribuidor):\n",
    "        self.__distribuidor = distribuidor\n",
    "        \n",
    "    def getProductor(self):\n",
    "        return self.__productor\n",
    "    \n",
    "    def getDistribuidor(self):\n",
    "        return self.__distribuidor\n",
    "\n",
    "    def __str__(self):\n",
    "        return f'''\\\n",
    "REFERENCIA\\t{self._referencia}\n",
    "NOMBRE\\t\\t{self._nombre}\n",
    "PVP\\t\\t{self._pvp}\n",
    "DESCRIPCION\\t{self._descripcion}\n",
    "PRODUCTOR\\t{self.__productor}\n",
    "DISTRIBUIDOR\\t{self.__distribuidor}\n",
    "'''\n",
    "\n",
    "class Libro(Producto):\n",
    "    __isbn = \"\"\n",
    "    __autor = \"\"\n",
    "\n",
    "    def setIsbn(self, isbn):\n",
    "        self.__isbn = isbn\n",
    "    \n",
    "    def setAutor(self, autor):\n",
    "        self.__autor = autor\n",
    "        \n",
    "    def getIsbn(self):\n",
    "        return self.__isbn\n",
    "    \n",
    "    def getAutor(self):\n",
    "        return self.__autor\n",
    "\n",
    "    def __str__(self):\n",
    "        return f'''\\\n",
    "REFERENCIA\\t{self._referencia}\n",
    "NOMBRE\\t\\t{self._nombre}\n",
    "PVP\\t\\t{self._pvp}\n",
    "DESCRIPCION\\t{self._descripcion}\n",
    "ISBN\\t\\t{self.__isbn}\n",
    "AUTOR\\t\\t{self.__autor}\n",
    "'''"
   ]
  },
  {
   "cell_type": "code",
   "execution_count": 12,
   "metadata": {},
   "outputs": [
    {
     "data": {
      "text/plain": [
       "[<__main__.Adorno at 0x294ca4b7590>,\n",
       " <__main__.Alimento at 0x294ca4b7850>,\n",
       " <__main__.Libro at 0x294ca4b6ad0>]"
      ]
     },
     "execution_count": 12,
     "metadata": {},
     "output_type": "execute_result"
    }
   ],
   "source": [
    "ad = Adorno(2034, \"Vaso adornado\", 15, \"Vaso de porcelana adronado con arboles\")\n",
    "\n",
    "al = Alimento(2035, \"Botella de Aceite de Oliva\", 5, \"250 ml\")\n",
    "al.setDistribuidor(\"Distribuciones SA\")\n",
    "al.setProductor(\"La Aceitera\")\n",
    "\n",
    "li = Libro(2036, \"Cocina Mediterranea\", 9, \"Recetas sanas y buenas\")\n",
    "li.setIsbn(\"0-123456-78-9\")\n",
    "li.setAutor(\"Juan Sebastian\")\n",
    "\n",
    "productos = [ad, al]\n",
    "productos.append(li)\n",
    "\n",
    "productos\n"
   ]
  },
  {
   "cell_type": "code",
   "execution_count": 13,
   "metadata": {},
   "outputs": [
    {
     "name": "stdout",
     "output_type": "stream",
     "text": [
      "REFERENCIA\t2034\n",
      "NOMBRE\t\tVaso adornado\n",
      "PVP\t\t15\n",
      "DESCRIPCION\tVaso de porcelana adronado con arboles\n",
      "        \n",
      "REFERENCIA\t2035\n",
      "NOMBRE\t\tBotella de Aceite de Oliva\n",
      "PVP\t\t5\n",
      "DESCRIPCION\t250 ml\n",
      "PRODUCTOR\tLa Aceitera\n",
      "DISTRIBUIDOR\tDistribuciones SA\n",
      "\n",
      "REFERENCIA\t2036\n",
      "NOMBRE\t\tCocina Mediterranea\n",
      "PVP\t\t9\n",
      "DESCRIPCION\tRecetas sanas y buenas\n",
      "ISBN\t\t0-123456-78-9\n",
      "AUTOR\t\tJuan Sebastian\n",
      "\n"
     ]
    }
   ],
   "source": [
    "for p in productos:\n",
    "    print(p)"
   ]
  },
  {
   "cell_type": "code",
   "execution_count": 14,
   "metadata": {},
   "outputs": [
    {
     "name": "stdout",
     "output_type": "stream",
     "text": [
      "2034 Vaso adornado\n",
      "2035 Botella de Aceite de Oliva\n",
      "2036 Cocina Mediterranea\n"
     ]
    }
   ],
   "source": [
    "for p in productos:\n",
    "    print(p.getReferencia(), p.getNombre())"
   ]
  },
  {
   "cell_type": "code",
   "execution_count": 15,
   "metadata": {},
   "outputs": [
    {
     "name": "stdout",
     "output_type": "stream",
     "text": [
      "2034 Vaso adornado\n",
      "2035 Botella de Aceite de Oliva La Aceitera\n",
      "2036 Cocina Mediterranea 0-123456-78-9\n"
     ]
    }
   ],
   "source": [
    "# Si queremos imprimir datos propios de alguna subclase\n",
    "\n",
    "for p in productos:\n",
    "    if isinstance(p, Adorno): # Si p es uno objeto de la clase adorno\n",
    "        print(p.getReferencia(), p.getNombre())\n",
    "    elif isinstance(p, Alimento):\n",
    "        print(p.getReferencia(), p.getNombre(), p.getProductor())\n",
    "    elif isinstance (p, Libro):\n",
    "        print(p.getReferencia(), p.getNombre(), p.getIsbn())"
   ]
  },
  {
   "cell_type": "code",
   "execution_count": 16,
   "metadata": {},
   "outputs": [
    {
     "name": "stdout",
     "output_type": "stream",
     "text": [
      "REFERENCIA\t2035\n",
      "NOMBRE\t\tBotella de Aceite de Oliva\n",
      "PVP\t\t4.5\n",
      "DESCRIPCION\t250 ml\n",
      "PRODUCTOR\tLa Aceitera\n",
      "DISTRIBUIDOR\tDistribuciones SA\n",
      "\n"
     ]
    }
   ],
   "source": [
    "al.aplicarDescuento(10)\n",
    "print(al)"
   ]
  },
  {
   "cell_type": "code",
   "execution_count": 17,
   "metadata": {},
   "outputs": [],
   "source": [
    "# Los objetos se pasan por referencia\n",
    "\n",
    "# No se pueden hacer copias de esta manera, solo se asigna el mismo \n",
    "# objeto a otra variable\n",
    "al_copia = al"
   ]
  },
  {
   "cell_type": "code",
   "execution_count": 18,
   "metadata": {},
   "outputs": [],
   "source": [
    "al_copia.setReferencia(2038)"
   ]
  },
  {
   "cell_type": "code",
   "execution_count": 19,
   "metadata": {},
   "outputs": [
    {
     "name": "stdout",
     "output_type": "stream",
     "text": [
      "REFERENCIA\t2038\n",
      "NOMBRE\t\tBotella de Aceite de Oliva\n",
      "PVP\t\t4.5\n",
      "DESCRIPCION\t250 ml\n",
      "PRODUCTOR\tLa Aceitera\n",
      "DISTRIBUIDOR\tDistribuciones SA\n",
      "\n",
      "REFERENCIA\t2038\n",
      "NOMBRE\t\tBotella de Aceite de Oliva\n",
      "PVP\t\t4.5\n",
      "DESCRIPCION\t250 ml\n",
      "PRODUCTOR\tLa Aceitera\n",
      "DISTRIBUIDOR\tDistribuciones SA\n",
      "\n"
     ]
    }
   ],
   "source": [
    "print(al)\n",
    "print(al_copia)"
   ]
  },
  {
   "cell_type": "code",
   "execution_count": 20,
   "metadata": {},
   "outputs": [],
   "source": [
    "# Mismo caso con las listas\n",
    "\n",
    "l = [1, 2, 3]\n"
   ]
  },
  {
   "cell_type": "code",
   "execution_count": 21,
   "metadata": {},
   "outputs": [],
   "source": [
    "l2 = l"
   ]
  },
  {
   "cell_type": "code",
   "execution_count": 22,
   "metadata": {},
   "outputs": [],
   "source": [
    "l2.append(4)"
   ]
  },
  {
   "cell_type": "code",
   "execution_count": 23,
   "metadata": {},
   "outputs": [
    {
     "data": {
      "text/plain": [
       "[1, 2, 3, 4]"
      ]
     },
     "execution_count": 23,
     "metadata": {},
     "output_type": "execute_result"
    }
   ],
   "source": [
    "l"
   ]
  },
  {
   "cell_type": "code",
   "execution_count": 24,
   "metadata": {},
   "outputs": [],
   "source": [
    "# Forma correcta de copair una lista\n",
    "l2 = l[:]"
   ]
  },
  {
   "cell_type": "code",
   "execution_count": 25,
   "metadata": {},
   "outputs": [],
   "source": [
    "# Forma correcta de crear una copia de un elemento\n",
    "import copy # Funciona con listas, diccionarios y objetos\n",
    "\n",
    "copia_ad = copy.copy(ad)"
   ]
  },
  {
   "cell_type": "code",
   "execution_count": 26,
   "metadata": {},
   "outputs": [
    {
     "name": "stdout",
     "output_type": "stream",
     "text": [
      "REFERENCIA\t2034\n",
      "NOMBRE\t\tVaso adornado\n",
      "PVP\t\t15\n",
      "DESCRIPCION\tVaso de porcelana adronado con arboles\n",
      "        \n"
     ]
    }
   ],
   "source": [
    "print(copia_ad)"
   ]
  },
  {
   "cell_type": "code",
   "execution_count": 27,
   "metadata": {},
   "outputs": [],
   "source": [
    "copia_ad.setPvp(25)"
   ]
  },
  {
   "cell_type": "code",
   "execution_count": 28,
   "metadata": {},
   "outputs": [
    {
     "name": "stdout",
     "output_type": "stream",
     "text": [
      "REFERENCIA\t2034\n",
      "NOMBRE\t\tVaso adornado\n",
      "PVP\t\t25\n",
      "DESCRIPCION\tVaso de porcelana adronado con arboles\n",
      "        \n"
     ]
    }
   ],
   "source": [
    "print(copia_ad)"
   ]
  },
  {
   "cell_type": "code",
   "execution_count": 29,
   "metadata": {},
   "outputs": [
    {
     "name": "stdout",
     "output_type": "stream",
     "text": [
      "REFERENCIA\t2034\n",
      "NOMBRE\t\tVaso adornado\n",
      "PVP\t\t15\n",
      "DESCRIPCION\tVaso de porcelana adronado con arboles\n",
      "        \n"
     ]
    }
   ],
   "source": [
    "print(ad)"
   ]
  },
  {
   "cell_type": "code",
   "execution_count": null,
   "metadata": {},
   "outputs": [],
   "source": []
  }
 ],
 "metadata": {
  "kernelspec": {
   "display_name": "Python 3 (ipykernel)",
   "language": "python",
   "name": "python3"
  },
  "language_info": {
   "codemirror_mode": {
    "name": "ipython",
    "version": 3
   },
   "file_extension": ".py",
   "mimetype": "text/x-python",
   "name": "python",
   "nbconvert_exporter": "python",
   "pygments_lexer": "ipython3",
   "version": "3.11.1"
  },
  "vscode": {
   "interpreter": {
    "hash": "5238573367df39f7286bb46f9ff5f08f63a01a80960060ce41e3c79b190280fa"
   }
  }
 },
 "nbformat": 4,
 "nbformat_minor": 1
}
