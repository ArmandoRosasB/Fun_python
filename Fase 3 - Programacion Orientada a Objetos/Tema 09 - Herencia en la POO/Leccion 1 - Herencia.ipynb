{
 "cells": [
  {
   "cell_type": "code",
   "execution_count": 3,
   "metadata": {},
   "outputs": [],
   "source": [
    "\n",
    "class Producto:\n",
    "    def __init__(self, referencia, tipo, nombre, pvp, descripcion, productor = None, distribuidor = None, isbn = None, autor = None):\n",
    "        self.__referencia = referencia\n",
    "        self.__tipo = tipo\n",
    "        self.__nombre = nombre\n",
    "        self.__pvp = pvp\n",
    "        self.__descripcion = descripcion\n",
    "        self.__productor = productor\n",
    "        self.__distribuidor = distribuidor\n",
    "        self.__autor = autor\n",
    "\n",
    "    def getReferencia(self):\n",
    "        return self.__referencia\n",
    "\n",
    "    def getTipo(self):\n",
    "        return self.__tipo\n",
    "\n",
    "    def getNombre(self):\n",
    "        return self.__nombre\n",
    "\n",
    "    def getPvp(self):\n",
    "        return self.__pvp\n",
    "\n",
    "    def getDescripcion(self):\n",
    "        return self.__descripcion\n",
    "\n",
    "    def getProductor(self):\n",
    "        return self.__productor\n",
    "\n",
    "    def getDistribuidor(self):\n",
    "        return self.__distribuidor\n",
    "\n",
    "    def getAutor(self):\n",
    "        return self.__autor\n",
    "\n",
    "\n",
    "adorno = Producto('000A', 'Adorno', 'Vaso Adornado', 15, 'Vaso de porcelana con dibujos')"
   ]
  },
  {
   "cell_type": "code",
   "execution_count": 4,
   "metadata": {},
   "outputs": [
    {
     "data": {
      "text/plain": [
       "<__main__.Producto at 0x28653be9e50>"
      ]
     },
     "execution_count": 4,
     "metadata": {},
     "output_type": "execute_result"
    }
   ],
   "source": [
    "adorno"
   ]
  },
  {
   "cell_type": "code",
   "execution_count": 5,
   "metadata": {},
   "outputs": [
    {
     "data": {
      "text/plain": [
       "'Adorno'"
      ]
     },
     "execution_count": 5,
     "metadata": {},
     "output_type": "execute_result"
    }
   ],
   "source": [
    "adorno.getTipo()"
   ]
  },
  {
   "cell_type": "code",
   "execution_count": 14,
   "metadata": {},
   "outputs": [
    {
     "name": "stdout",
     "output_type": "stream",
     "text": [
      "REFERENCIA\t2034\n",
      "NOMBRE\t\tVaso adornado\n",
      "PVP\t\t15\n",
      "DESCRIPCION\tVaso de porcelana adronado con arboles\n",
      "        \n"
     ]
    }
   ],
   "source": [
    "# Usando herencia:\n",
    "\n",
    "'''\n",
    "Primero ubicamos los atributos comunes que seran los atributos\n",
    "de la clase padre y posteriormente ubicamos los atributos \n",
    "especificos de cada clase hija\n",
    "'''\n",
    "\n",
    "class Producto:\n",
    "    def __init__(self, referencia, nombre, pvp, descripcion, productor = None, distribuidor = None, isbn = None, autor = None):\n",
    "        self.__referencia = referencia\n",
    "        self.__nombre = nombre\n",
    "        self.__pvp = pvp\n",
    "        self.__descripcion = descripcion\n",
    "\n",
    "    \n",
    "    def getReferencia(self):\n",
    "        return self.__referencia\n",
    "\n",
    "    def getNombre(self):\n",
    "        return self.__nombre\n",
    "\n",
    "    def getPvp(self):\n",
    "        return self.__pvp\n",
    "\n",
    "    def getDescripcion(self):\n",
    "        return self.__descripcion\n",
    "\n",
    "    def __str__(self):\n",
    "        return f'''\\\n",
    "REFERENCIA\\t{self.__referencia}\n",
    "NOMBRE\\t\\t{self.__nombre}\n",
    "PVP\\t\\t{self.__pvp}\n",
    "DESCRIPCION\\t{self.__descripcion}\n",
    "        '''\n",
    "\n",
    "#Creacion de subclases\n",
    "\n",
    "class Adorno(Producto):\n",
    "    pass\n",
    "\n",
    "ad = Adorno(2034, \"Vaso adornado\", 15, \"Vaso de porcelana adronado con arboles\")\n",
    "print(ad)"
   ]
  },
  {
   "cell_type": "code",
   "execution_count": 17,
   "metadata": {},
   "outputs": [
    {
     "name": "stdout",
     "output_type": "stream",
     "text": [
      "REFERENCIA\t2035\n",
      "NOMBRE\t\tBotella de Aceite de Oliva\n",
      "PVP\t\t5\n",
      "DESCRIPCION\t250 ml\n",
      "PRODUCTOR\tLa Aceitera\n",
      "DISTRIBUIDOR\tDistribuciones SA\n",
      "\n"
     ]
    }
   ],
   "source": [
    "class Producto:\n",
    "    def __init__(self, referencia, nombre, pvp, descripcion, productor = None, distribuidor = None, isbn = None, autor = None):\n",
    "        self.__referencia = referencia\n",
    "        self.__nombre = nombre\n",
    "        self.__pvp = pvp\n",
    "        self.__descripcion = descripcion\n",
    "\n",
    "    \n",
    "    def getReferencia(self):\n",
    "        return self.__referencia\n",
    "\n",
    "    def getNombre(self):\n",
    "        return self.__nombre\n",
    "\n",
    "    def getPvp(self):\n",
    "        return self.__pvp\n",
    "\n",
    "    def getDescripcion(self):\n",
    "        return self.__descripcion\n",
    "\n",
    "    def __str__(self):\n",
    "        return f'''\\\n",
    "REFERENCIA\\t{self.__referencia}\n",
    "NOMBRE\\t\\t{self.__nombre}\n",
    "PVP\\t\\t{self.__pvp}\n",
    "DESCRIPCION\\t{self.__descripcion}\n",
    "        '''\n",
    "\n",
    "\n",
    "class Alimento(Producto):\n",
    "    __productor = \"\"\n",
    "    __distribuidor = \"\"\n",
    "\n",
    "    def setProductor(self, productor):\n",
    "        self.__productor = productor\n",
    "    \n",
    "    def setDistribuidor(self, distribuidor):\n",
    "        self.__distribuidor = distribuidor\n",
    "\n",
    "    def __str__(self):\n",
    "        return f'''\\\n",
    "REFERENCIA\\t{self.getReferencia()}\n",
    "NOMBRE\\t\\t{self.getNombre()}\n",
    "PVP\\t\\t{self.getPvp()}\n",
    "DESCRIPCION\\t{self.getDescripcion()}\n",
    "PRODUCTOR\\t{self.__productor}\n",
    "DISTRIBUIDOR\\t{self.__distribuidor}\n",
    "'''\n",
    "\n",
    "\n",
    "al = Alimento(2035, \"Botella de Aceite de Oliva\", 5, \"250 ml\")\n",
    "al.setDistribuidor(\"Distribuciones SA\")\n",
    "al.setProductor(\"La Aceitera\")\n",
    "\n",
    "\n",
    "print(al)"
   ]
  },
  {
   "cell_type": "code",
   "execution_count": 20,
   "metadata": {},
   "outputs": [
    {
     "name": "stdout",
     "output_type": "stream",
     "text": [
      "REFERENCIA\t2036\n",
      "NOMBRE\t\tCocina Mediterranea\n",
      "PVP\t\t9\n",
      "DESCRIPCION\tRecetas sanas y buenas\n",
      "ISBN\t\t0-123456-78-9\n",
      "AUTOR\t\tJuan Sebastian\n",
      "\n"
     ]
    }
   ],
   "source": [
    "class Libro(Producto):\n",
    "    __isbn = \"\"\n",
    "    __autor = \"\"\n",
    "\n",
    "    def setIsbn(self, isbn):\n",
    "        self.__isbn = isbn\n",
    "    \n",
    "    def setAutor(self, autor):\n",
    "        self.__autor = autor\n",
    "\n",
    "    def __str__(self):\n",
    "        return f'''\\\n",
    "REFERENCIA\\t{self.getReferencia()}\n",
    "NOMBRE\\t\\t{self.getNombre()}\n",
    "PVP\\t\\t{self.getPvp()}\n",
    "DESCRIPCION\\t{self.getDescripcion()}\n",
    "ISBN\\t\\t{self.__isbn}\n",
    "AUTOR\\t\\t{self.__autor}\n",
    "'''\n",
    "\n",
    "li = Libro(2036, \"Cocina Mediterranea\", 9, \"Recetas sanas y buenas\")\n",
    "li.setIsbn(\"0-123456-78-9\")\n",
    "li.setAutor(\"Juan Sebastian\")\n",
    "\n",
    "print(li)"
   ]
  },
  {
   "cell_type": "code",
   "execution_count": null,
   "metadata": {},
   "outputs": [],
   "source": []
  }
 ],
 "metadata": {
  "kernelspec": {
   "display_name": "Python 3",
   "language": "python",
   "name": "python3"
  },
  "language_info": {
   "codemirror_mode": {
    "name": "ipython",
    "version": 3
   },
   "file_extension": ".py",
   "mimetype": "text/x-python",
   "name": "python",
   "nbconvert_exporter": "python",
   "pygments_lexer": "ipython3",
   "version": "3.11.1"
  },
  "vscode": {
   "interpreter": {
    "hash": "5238573367df39f7286bb46f9ff5f08f63a01a80960060ce41e3c79b190280fa"
   }
  }
 },
 "nbformat": 4,
 "nbformat_minor": 0
}
