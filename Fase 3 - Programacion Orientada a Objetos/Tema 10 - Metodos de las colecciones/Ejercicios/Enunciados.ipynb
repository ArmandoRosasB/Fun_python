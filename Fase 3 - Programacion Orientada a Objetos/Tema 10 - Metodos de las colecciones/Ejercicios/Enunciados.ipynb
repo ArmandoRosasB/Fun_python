{
 "cells": [
  {
   "cell_type": "markdown",
   "metadata": {},
   "source": [
    "# Tema 10: Métodos de las colecciones (Enunciados)\n",
    "*Nota: Estos ejercicios son optativos para hacer al final de la unidad y están pensados para apoyar tu aprendizaje*."
   ]
  },
  {
   "cell_type": "markdown",
   "metadata": {},
   "source": [
    "**1) Utilizando todo lo que sabes sobre cadenas, listas, sus métodos internos... Transforma este texto:**\n",
    "\n",
    "```\n",
    "un día que el viento soplaba con fuerza#mira como se mueve aquella banderola -dijo un monje#lo que se mueve es el viento -respondió otro monje#ni las banderolas ni el viento, lo que se mueve son vuestras mentes -dijo el maestro\n",
    "```\n",
    "**En este otro:**\n",
    "\n",
    "```\n",
    "Un día que el viento soplaba con fuerza...\n",
    "- Mira como se mueve aquella banderola -dijo un monje.\n",
    "- Lo que se mueve es el viento -respondió otro monje.\n",
    "- Ni las banderolas ni el viento, lo que se mueve son vuestras mentes -dijo el maestro.\n",
    "```\n",
    "**Lo único prohibido es modificar directamente el texto**"
   ]
  },
  {
   "cell_type": "code",
   "execution_count": 10,
   "metadata": {
    "collapsed": false
   },
   "outputs": [
    {
     "name": "stdout",
     "output_type": "stream",
     "text": [
      "Un día que el viento soplaba con fuerza...\n",
      "- Mira como se mueve aquella banderola -dijo un monje.\n",
      "- Lo que se mueve es el viento -respondió otro monje.\n",
      "- Ni las banderolas ni el viento, lo que se mueve son vuestras mentes -dijo el maestro.\n"
     ]
    }
   ],
   "source": [
    "# Completa el ejercicio aquí\n",
    "texto = \"un día que el viento soplaba con fuerza#mira como se mueve aquella banderola -dijo un monje#lo que se mueve es el viento -respondió otro monje#ni las banderolas ni el viento, lo que se mueve son vuestras mentes -dijo el maestro\"\n",
    "\n",
    "lista = texto.split('#')\n",
    "for i, linea in enumerate(lista):\n",
    "    lista[i] = linea.capitalize()\n",
    "    if i == 0:\n",
    "        lista[i] = lista[i] + \"...\"\n",
    "    else:\n",
    "        lista[i] = \"- \" + lista[i] + \".\"\n",
    "\n",
    "for linea in lista:\n",
    "    print(linea)\n"
   ]
  },
  {
   "cell_type": "markdown",
   "metadata": {},
   "source": [
    "**2) Crea una función modificar() que a partir de una lista de números realice las siguientes tareas sin modificar la original:**\n",
    "\n",
    "* Borrar los elementos duplicados\n",
    "* Ordenar la lista de mayor a menor\n",
    "* Eliminar todos los números impares\n",
    "* Realizar una suma de todos los números que quedan\n",
    "* Añadir como primer elemento de la lista la suma realizada\n",
    "* Devolver la lista modificada\n",
    "* Finalmente, después de ejecutar la función, comprueba que la suma de todos los números a partir del segundo, concuerda con el primer número de la lista, tal que así:\n",
    "```python\n",
    "nueva_lista = modificar(lista)\n",
    "print( nueva_lista[0] == sum(nueva_lista[1:]) )\n",
    "> True\n",
    "```\n",
    "\n",
    "*Nota: La función sum(lista) devuelve una suma de los elementos de una lista*"
   ]
  },
  {
   "cell_type": "code",
   "execution_count": 27,
   "metadata": {
    "collapsed": false
   },
   "outputs": [
    {
     "name": "stdout",
     "output_type": "stream",
     "text": [
      "[29, -5, -12, 17, 5, 24, 5, 12, 23, 16, 12, 5, -12, 17]\n",
      "[40, 24, 16, 12, -12]\n",
      "True\n"
     ]
    }
   ],
   "source": [
    "# Completa el ejercicio aquí\n",
    "lista = [29, -5, -12, 17, 5, 24, 5, 12, 23, 16, 12, 5, -12, 17]\n",
    "\n",
    "def modificar(l):\n",
    "    l = list(set(l))\n",
    "    l.sort(reverse = True)\n",
    "\n",
    "    aux = []\n",
    "\n",
    "    for i in l:\n",
    "        if i % 2 == 0:\n",
    "            aux.append(i)\n",
    "\n",
    "\n",
    "    suma = sum(aux)\n",
    "    aux.insert(0, suma)\n",
    "\n",
    "    return aux\n",
    "\n",
    "nueva_lista = modificar(lista)\n",
    "print(lista)\n",
    "print(nueva_lista)\n",
    "\n",
    "\n",
    "print(nueva_lista[0] == sum(nueva_lista[1:]))\n",
    "\n",
    "\n",
    "\n",
    "\n"
   ]
  },
  {
   "cell_type": "code",
   "execution_count": null,
   "metadata": {},
   "outputs": [],
   "source": []
  }
 ],
 "metadata": {
  "anaconda-cloud": {},
  "kernelspec": {
   "display_name": "Python 3",
   "language": "python",
   "name": "python3"
  },
  "language_info": {
   "codemirror_mode": {
    "name": "ipython",
    "version": 3
   },
   "file_extension": ".py",
   "mimetype": "text/x-python",
   "name": "python",
   "nbconvert_exporter": "python",
   "pygments_lexer": "ipython3",
   "version": "3.11.1"
  },
  "vscode": {
   "interpreter": {
    "hash": "5238573367df39f7286bb46f9ff5f08f63a01a80960060ce41e3c79b190280fa"
   }
  }
 },
 "nbformat": 4,
 "nbformat_minor": 0
}
