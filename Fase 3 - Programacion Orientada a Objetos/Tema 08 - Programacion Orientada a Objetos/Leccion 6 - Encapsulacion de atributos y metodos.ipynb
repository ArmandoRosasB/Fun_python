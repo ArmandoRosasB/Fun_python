{
 "cells": [
  {
   "cell_type": "code",
   "execution_count": 1,
   "metadata": {},
   "outputs": [],
   "source": [
    "class Ejemplo:\n",
    "    # Simulacion de encapsulamiento \n",
    "    # Dos barras bajas antes del atributo o metodo\n",
    "    __atributo_privado = \"Soy un atributo privado\"\n",
    "\n",
    "    def __metodo_privado(self):\n",
    "        print(\"Soy un metodo inalcanzable desde fuera\")"
   ]
  },
  {
   "cell_type": "code",
   "execution_count": 2,
   "metadata": {},
   "outputs": [],
   "source": [
    "e = Ejemplo()"
   ]
  },
  {
   "cell_type": "code",
   "execution_count": 3,
   "metadata": {},
   "outputs": [
    {
     "ename": "AttributeError",
     "evalue": "'Ejemplo' object has no attribute '__atributo_privado'",
     "output_type": "error",
     "traceback": [
      "\u001b[1;31m---------------------------------------------------------------------------\u001b[0m",
      "\u001b[1;31mAttributeError\u001b[0m                            Traceback (most recent call last)",
      "\u001b[1;32mc:\\Users\\Armando\\Documents\\CursoPython\\Fase 3 - Programacion Orientada a Objetos\\Tema 08 - Programacion Orientada a Objetos\\Leccion 6 - Encapsulacion de atributos y metodos.ipynb Cell 3\u001b[0m in \u001b[0;36m<cell line: 1>\u001b[1;34m()\u001b[0m\n\u001b[1;32m----> <a href='vscode-notebook-cell:/c%3A/Users/Armando/Documents/CursoPython/Fase%203%20-%20Programacion%20Orientada%20a%20Objetos/Tema%2008%20-%20Programacion%20Orientada%20a%20Objetos/Leccion%206%20-%20Encapsulacion%20de%20atributos%20y%20metodos.ipynb#W2sZmlsZQ%3D%3D?line=0'>1</a>\u001b[0m e\u001b[39m.\u001b[39;49m__atributo_privado\n",
      "\u001b[1;31mAttributeError\u001b[0m: 'Ejemplo' object has no attribute '__atributo_privado'"
     ]
    }
   ],
   "source": [
    "e.__atributo_privado"
   ]
  },
  {
   "cell_type": "code",
   "execution_count": 4,
   "metadata": {},
   "outputs": [
    {
     "ename": "AttributeError",
     "evalue": "'Ejemplo' object has no attribute '__metodo_privado'",
     "output_type": "error",
     "traceback": [
      "\u001b[1;31m---------------------------------------------------------------------------\u001b[0m",
      "\u001b[1;31mAttributeError\u001b[0m                            Traceback (most recent call last)",
      "\u001b[1;32mc:\\Users\\Armando\\Documents\\CursoPython\\Fase 3 - Programacion Orientada a Objetos\\Tema 08 - Programacion Orientada a Objetos\\Leccion 6 - Encapsulacion de atributos y metodos.ipynb Cell 4\u001b[0m in \u001b[0;36m<cell line: 1>\u001b[1;34m()\u001b[0m\n\u001b[1;32m----> <a href='vscode-notebook-cell:/c%3A/Users/Armando/Documents/CursoPython/Fase%203%20-%20Programacion%20Orientada%20a%20Objetos/Tema%2008%20-%20Programacion%20Orientada%20a%20Objetos/Leccion%206%20-%20Encapsulacion%20de%20atributos%20y%20metodos.ipynb#W3sZmlsZQ%3D%3D?line=0'>1</a>\u001b[0m e\u001b[39m.\u001b[39;49m__metodo_privado()\n",
      "\u001b[1;31mAttributeError\u001b[0m: 'Ejemplo' object has no attribute '__metodo_privado'"
     ]
    }
   ],
   "source": [
    "e.__metodo_privado()"
   ]
  },
  {
   "cell_type": "code",
   "execution_count": 5,
   "metadata": {},
   "outputs": [],
   "source": [
    "class Ejemplo:\n",
    "    # Simulacion de encapsulamiento \n",
    "    # Dos barras bajas antes del atributo o metodo\n",
    "    __atributo_privado = \"Soy un atributo privado\"\n",
    "\n",
    "    def __metodo_privado(self):\n",
    "        print(\"Soy un metodo inalcanzable desde fuera\")\n",
    "\n",
    "    def getAtributoprivado(self):\n",
    "        return self.__atributo_privado"
   ]
  },
  {
   "cell_type": "code",
   "execution_count": 6,
   "metadata": {},
   "outputs": [
    {
     "data": {
      "text/plain": [
       "'Soy un atributo privado'"
      ]
     },
     "execution_count": 6,
     "metadata": {},
     "output_type": "execute_result"
    }
   ],
   "source": [
    "e = Ejemplo()\n",
    "e.getAtributoprivado()"
   ]
  },
  {
   "cell_type": "code",
   "execution_count": null,
   "metadata": {},
   "outputs": [],
   "source": []
  }
 ],
 "metadata": {
  "kernelspec": {
   "display_name": "Python 3",
   "language": "python",
   "name": "python3"
  },
  "language_info": {
   "codemirror_mode": {
    "name": "ipython",
    "version": 3
   },
   "file_extension": ".py",
   "mimetype": "text/x-python",
   "name": "python",
   "nbconvert_exporter": "python",
   "pygments_lexer": "ipython3",
   "version": "3.10.5"
  },
  "vscode": {
   "interpreter": {
    "hash": "bfd6de612843adf5017377cffceacebca28d631d77275f6d7ed4290b25deabee"
   }
  }
 },
 "nbformat": 4,
 "nbformat_minor": 0
}
