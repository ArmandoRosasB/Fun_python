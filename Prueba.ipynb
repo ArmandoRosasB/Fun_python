{
 "cells": [
  {
   "cell_type": "markdown",
   "id": "31214463",
   "metadata": {},
   "source": [
    "# Esto es un título en Markdown\n",
    "## Esto es un subtítulo en Markdown\n",
    "Esto es un texto para un párrafo en Markdown\n",
    "\n",
    "*Esto es un texto en cursiva*\n",
    "\n",
    "**Esto es un texto en negrita**"
   ]
  },
  {
   "cell_type": "code",
   "execution_count": 1,
   "id": "c0f017f4",
   "metadata": {},
   "outputs": [
    {
     "name": "stdout",
     "output_type": "stream",
     "text": [
      "Hola mundo\n"
     ]
    }
   ],
   "source": [
    "print(\"Hola mundo\")"
   ]
  },
  {
   "cell_type": "code",
   "execution_count": 2,
   "id": "979049d7",
   "metadata": {},
   "outputs": [
    {
     "name": "stdout",
     "output_type": "stream",
     "text": [
      "Print es una instrucción que muestra texto por pantalla\n"
     ]
    }
   ],
   "source": [
    "print(\"Print es una instrucción que muestra texto por pantalla\")"
   ]
  },
  {
   "cell_type": "code",
   "execution_count": null,
   "id": "413f1a12",
   "metadata": {},
   "outputs": [],
   "source": []
  }
 ],
 "metadata": {
  "kernelspec": {
   "display_name": "Python 3 (ipykernel)",
   "language": "python",
   "name": "python3"
  },
  "language_info": {
   "codemirror_mode": {
    "name": "ipython",
    "version": 3
   },
   "file_extension": ".py",
   "mimetype": "text/x-python",
   "name": "python",
   "nbconvert_exporter": "python",
   "pygments_lexer": "ipython3",
   "version": "3.10.5"
  }
 },
 "nbformat": 4,
 "nbformat_minor": 5
}
