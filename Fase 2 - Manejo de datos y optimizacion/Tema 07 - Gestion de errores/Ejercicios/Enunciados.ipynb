{
 "cells": [
  {
   "cell_type": "markdown",
   "metadata": {},
   "source": [
    "# Tema 07: Gestión de errores (Enunciados)\n",
    "*Nota: Estos ejercicios son optativos para hacer al final de la unidad y están pensados para apoyar tu aprendizaje*."
   ]
  },
  {
   "cell_type": "markdown",
   "metadata": {},
   "source": [
    "**1) Localiza el error en el siguiente bloque de código. Crea una excepción para evitar que el programa se bloquee y además explica en un mensaje al usuario la causa y/o solución:**"
   ]
  },
  {
   "cell_type": "code",
   "execution_count": 3,
   "metadata": {
    "collapsed": false
   },
   "outputs": [
    {
     "name": "stdout",
     "output_type": "stream",
     "text": [
      "No se puede realizar una division entre 0\n"
     ]
    }
   ],
   "source": [
    "# Completa el ejercicio aquí\n",
    "try:\n",
    "    resultado = 10/0\n",
    "except ZeroDivisionError:\n",
    "    print(\"No se puede realizar una division entre 0\")\n",
    "except Exception as e:\n",
    "    print(type(e).__name__)"
   ]
  },
  {
   "cell_type": "markdown",
   "metadata": {},
   "source": [
    "**2) Localiza el error en el siguiente bloque de código.  Crea una excepción para evitar que el programa se bloquee y además explica en un mensaje al usuario la causa y/o solución:**"
   ]
  },
  {
   "cell_type": "code",
   "execution_count": 5,
   "metadata": {
    "collapsed": false
   },
   "outputs": [
    {
     "name": "stdout",
     "output_type": "stream",
     "text": [
      "Indice fuera de rango\n"
     ]
    }
   ],
   "source": [
    "# Completa el ejercicio aquí\n",
    "lista = [1, 2, 3, 4, 5]\n",
    "\n",
    "try:\n",
    "    lista[10]\n",
    "except IndexError:\n",
    "    print(\"Indice fuera de rango\")\n",
    "except Exception as e:\n",
    "    print(type(e).__name__)"
   ]
  },
  {
   "cell_type": "markdown",
   "metadata": {},
   "source": [
    "**3) Localiza el error en el siguiente bloque de código.  Crea una excepción para evitar que el programa se bloquee y además explica en un mensaje al usuario la causa y/o solución:**"
   ]
  },
  {
   "cell_type": "code",
   "execution_count": 7,
   "metadata": {
    "collapsed": false
   },
   "outputs": [
    {
     "name": "stdout",
     "output_type": "stream",
     "text": [
      "La llave no se encuentra en el mapa\n"
     ]
    }
   ],
   "source": [
    "# Completa el ejercicio aquí\n",
    "colores = { 'rojo':'red', 'verde':'green', 'negro':'black' } \n",
    "try:\n",
    "    colores['blanco']\n",
    "except KeyError:\n",
    "    print(\"La llave no se encuentra en el mapa\")\n",
    "except Exception as e:\n",
    "    print(type(e).__name__)"
   ]
  },
  {
   "cell_type": "markdown",
   "metadata": {},
   "source": [
    "**4) Localiza el error en el siguiente bloque de código.  Crea una excepción para evitar que el programa se bloquee y además explica en un mensaje al usuario la causa y/o solución:**"
   ]
  },
  {
   "cell_type": "code",
   "execution_count": 10,
   "metadata": {
    "collapsed": false
   },
   "outputs": [
    {
     "name": "stdout",
     "output_type": "stream",
     "text": [
      "No puedes sumar datos de diferente tipo\n"
     ]
    }
   ],
   "source": [
    "# Completa el ejercicio aquí\n",
    "try:    \n",
    "    resultado = 15 + \"20\"\n",
    "\n",
    "except TypeError:\n",
    "    print(\"No puedes sumar datos de diferente tipo\")\n",
    "except Exception as e:\n",
    "    print(type(e).__name__)"
   ]
  },
  {
   "cell_type": "markdown",
   "metadata": {},
   "source": [
    "**5) Realiza una función llamada agregar_una_vez() que reciba una lista y un elemento. La función debe añadir el elemento al final de la lista con la condición de no repetir ningún elemento. Además si este elemento ya se encuentra en la lista se debe invocar un error de tipo ValueError que debes capturar y mostrar este mensaje en su lugar:**\n",
    "\n",
    "```\n",
    "  Error: Imposible añadir elementos duplicados => [elemento].\n",
    "```\n",
    "** Prueba de agregar los elementos 10, -2, \"Hola\" a la lista de elementos con la función una vez la has creado y luego muestra su contenido.**\n",
    "\n",
    "*Nota: Puedes utilizar la sintaxis: elemento in lista*"
   ]
  },
  {
   "cell_type": "code",
   "execution_count": 11,
   "metadata": {
    "collapsed": false
   },
   "outputs": [
    {
     "name": "stdout",
     "output_type": "stream",
     "text": [
      "Error: Imposible añadir elementos duplicados => -2\n"
     ]
    }
   ],
   "source": [
    "elementos = [1, 5, -2]\n",
    "\n",
    "# Completa el ejercicio aquí\n",
    "def agregar_una_vez(lista, elemento):\n",
    "    try:\n",
    "        if elemento in lista:\n",
    "            raise ValueError\n",
    "        else:\n",
    "            lista.append(elemento)\n",
    "    except ValueError:\n",
    "        print(f\"Error: Imposible añadir elementos duplicados => {elemento}\")\n",
    "\n",
    "agregar_una_vez(elementos, 10)\n",
    "agregar_una_vez(elementos, -2)\n",
    "agregar_una_vez(elementos, \"Hola\")"
   ]
  },
  {
   "cell_type": "code",
   "execution_count": 12,
   "metadata": {},
   "outputs": [
    {
     "name": "stdout",
     "output_type": "stream",
     "text": [
      "[1, 5, -2, 10, 'Hola']\n"
     ]
    }
   ],
   "source": [
    "print(elementos)"
   ]
  },
  {
   "cell_type": "code",
   "execution_count": null,
   "metadata": {},
   "outputs": [],
   "source": []
  }
 ],
 "metadata": {
  "anaconda-cloud": {},
  "kernelspec": {
   "display_name": "Python 3",
   "language": "python",
   "name": "python3"
  },
  "language_info": {
   "codemirror_mode": {
    "name": "ipython",
    "version": 3
   },
   "file_extension": ".py",
   "mimetype": "text/x-python",
   "name": "python",
   "nbconvert_exporter": "python",
   "pygments_lexer": "ipython3",
   "version": "3.10.5"
  },
  "vscode": {
   "interpreter": {
    "hash": "bfd6de612843adf5017377cffceacebca28d631d77275f6d7ed4290b25deabee"
   }
  }
 },
 "nbformat": 4,
 "nbformat_minor": 0
}
