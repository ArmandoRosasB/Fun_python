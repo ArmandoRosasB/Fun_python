{
 "cells": [
  {
   "cell_type": "code",
   "execution_count": 1,
   "metadata": {},
   "outputs": [
    {
     "name": "stdout",
     "output_type": "stream",
     "text": [
      "Introduce un numero: aaa\n"
     ]
    },
    {
     "ename": "ValueError",
     "evalue": "could not convert string to float: 'aaa'",
     "output_type": "error",
     "traceback": [
      "\u001b[1;31m---------------------------------------------------------------------------\u001b[0m",
      "\u001b[1;31mValueError\u001b[0m                                Traceback (most recent call last)",
      "Input \u001b[1;32mIn [1]\u001b[0m, in \u001b[0;36m<cell line: 1>\u001b[1;34m()\u001b[0m\n\u001b[1;32m----> 1\u001b[0m n \u001b[38;5;241m=\u001b[39m \u001b[38;5;28;43mfloat\u001b[39;49m\u001b[43m(\u001b[49m\u001b[38;5;28;43minput\u001b[39;49m\u001b[43m(\u001b[49m\u001b[38;5;124;43m\"\u001b[39;49m\u001b[38;5;124;43mIntroduce un numero: \u001b[39;49m\u001b[38;5;124;43m\"\u001b[39;49m\u001b[43m)\u001b[49m\u001b[43m)\u001b[49m\n\u001b[0;32m      2\u001b[0m m \u001b[38;5;241m=\u001b[39m \u001b[38;5;241m4\u001b[39m\n\u001b[0;32m      3\u001b[0m \u001b[38;5;28mprint\u001b[39m(\u001b[38;5;124mf\u001b[39m\u001b[38;5;124m\"\u001b[39m\u001b[38;5;132;01m{\u001b[39;00mn\u001b[38;5;132;01m}\u001b[39;00m\u001b[38;5;124m / \u001b[39m\u001b[38;5;132;01m{\u001b[39;00mm\u001b[38;5;132;01m}\u001b[39;00m\u001b[38;5;124m = \u001b[39m\u001b[38;5;132;01m{\u001b[39;00mn \u001b[38;5;241m/\u001b[39m m\u001b[38;5;132;01m}\u001b[39;00m\u001b[38;5;124m\"\u001b[39m)\n",
      "\u001b[1;31mValueError\u001b[0m: could not convert string to float: 'aaa'"
     ]
    }
   ],
   "source": [
    "n = float(input(\"Introduce un numero: \"))\n",
    "m = 4\n",
    "print(f\"{n} / {m} = {n / m}\")"
   ]
  },
  {
   "cell_type": "code",
   "execution_count": 2,
   "metadata": {},
   "outputs": [
    {
     "name": "stdout",
     "output_type": "stream",
     "text": [
      "Introduce un numero: aaa\n",
      "A ocurrido un error, introduce bien el numeroa\n"
     ]
    }
   ],
   "source": [
    "# Creación de excepciones\n",
    "try: #Escribir el codigo propenso a errores\n",
    "    n = float(input(\"Introduce un numero: \"))\n",
    "    m = 4\n",
    "    print(f\"{n} / {m} = {n / m}\")\n",
    "except: #Se ejecuta si hay algun error\n",
    "    print(\"A ocurrido un error, introduce bien el numero\")\n",
    "    \n",
    "#Evita que se detenga la ejecución del programa"
   ]
  },
  {
   "cell_type": "code",
   "execution_count": 4,
   "metadata": {},
   "outputs": [
    {
     "name": "stdout",
     "output_type": "stream",
     "text": [
      "Introduce un numero: aaa\n",
      "A ocurrido un error, introduce bien el numero\n",
      "Introduce un numero: aa\n",
      "A ocurrido un error, introduce bien el numero\n",
      "Introduce un numero: vrce\n",
      "A ocurrido un error, introduce bien el numero\n",
      "Introduce un numero: 123\n",
      "123.0 / 4 = 30.75\n"
     ]
    }
   ],
   "source": [
    "while True:\n",
    "    try: #Escribir el codigo propenso a errores\n",
    "        n = float(input(\"Introduce un numero: \"))\n",
    "        m = 4\n",
    "        print(f\"{n} / {m} = {n / m}\")\n",
    "        break #Importante: Romper la ejecucion si todo a salido bien \n",
    "    \n",
    "    except: #Se ejecuta si hay algun error\n",
    "        print(\"A ocurrido un error, introduce bien el numero\")"
   ]
  },
  {
   "cell_type": "code",
   "execution_count": 5,
   "metadata": {},
   "outputs": [
    {
     "name": "stdout",
     "output_type": "stream",
     "text": [
      "Introduce un numero: 2\n",
      "2.0 / 4 = 0.5\n",
      "Todo ha funcionado correctamente\n"
     ]
    }
   ],
   "source": [
    "while True:\n",
    "    try: #Escribir el codigo propenso a errores\n",
    "        n = float(input(\"Introduce un numero: \"))\n",
    "        m = 4\n",
    "        print(f\"{n} / {m} = {n / m}\")\n",
    "    \n",
    "    except: #Se ejecuta si hay algun error\n",
    "        print(\"A ocurrido un error, introduce bien el numero\")\n",
    "        \n",
    "    else: # Si except no se ejecuta, se ejecuta el else\n",
    "        print(\"Todo ha funcionado correctamente\")\n",
    "        break "
   ]
  },
  {
   "cell_type": "code",
   "execution_count": 6,
   "metadata": {},
   "outputs": [
    {
     "name": "stdout",
     "output_type": "stream",
     "text": [
      "Introduce un numero: tgcr\n",
      "A ocurrido un error, introduce bien el numero\n",
      "Fin de la iteración\n",
      "Introduce un numero: 234\n",
      "234.0 / 4 = 58.5\n",
      "Todo ha funcionado correctamente\n",
      "Fin de la iteración\n"
     ]
    }
   ],
   "source": [
    "while True:\n",
    "    try: #Escribir el codigo propenso a errores\n",
    "        n = float(input(\"Introduce un numero: \"))\n",
    "        m = 4\n",
    "        print(f\"{n} / {m} = {n / m}\")\n",
    "    \n",
    "    except: #Se ejecuta si hay algun error\n",
    "        print(\"A ocurrido un error, introduce bien el numero\")\n",
    "        \n",
    "    else: # Si except no se ejecuta, se ejecuta el else\n",
    "        print(\"Todo ha funcionado correctamente\")\n",
    "        break \n",
    "        \n",
    "    finally: # Se ejecuta al final de cada iteracion\n",
    "        print(\"Fin de la iteración\")\n",
    "        "
   ]
  },
  {
   "cell_type": "code",
   "execution_count": null,
   "metadata": {},
   "outputs": [],
   "source": []
  }
 ],
 "metadata": {
  "kernelspec": {
   "display_name": "Python 3 (ipykernel)",
   "language": "python",
   "name": "python3"
  },
  "language_info": {
   "codemirror_mode": {
    "name": "ipython",
    "version": 3
   },
   "file_extension": ".py",
   "mimetype": "text/x-python",
   "name": "python",
   "nbconvert_exporter": "python",
   "pygments_lexer": "ipython3",
   "version": "3.10.5"
  }
 },
 "nbformat": 4,
 "nbformat_minor": 1
}
